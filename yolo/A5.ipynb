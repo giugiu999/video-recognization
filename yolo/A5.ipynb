{
  "nbformat": 4,
  "nbformat_minor": 0,
  "metadata": {
    "colab": {
      "provenance": [],
      "gpuType": "T4"
    },
    "kernelspec": {
      "name": "python3",
      "display_name": "Python 3"
    },
    "language_info": {
      "name": "python"
    },
    "accelerator": "GPU"
  },
  "cells": [
    {
      "cell_type": "markdown",
      "source": [
        "# Assignment 5 – fine-tune a pretrained YOLO model on MNISTDD-RGB"
      ],
      "metadata": {
        "id": "W6Dy74d2F-Yo"
      }
    },
    {
      "cell_type": "code",
      "execution_count": 1,
      "metadata": {
        "id": "4vOAylY7FSwd"
      },
      "outputs": [],
      "source": [
        "!pip -q install torch torchvision"
      ]
    },
    {
      "cell_type": "code",
      "source": [
        "import os\n",
        "from tqdm import tqdm\n",
        "from PIL import Image\n",
        "import torch\n",
        "import torchvision\n",
        "import matplotlib.pyplot as plt\n",
        "import numpy as np"
      ],
      "metadata": {
        "id": "gLNa2ciQXx-n"
      },
      "execution_count": 2,
      "outputs": []
    },
    {
      "cell_type": "markdown",
      "source": [
        "# Part A (In-Lab 2%)"
      ],
      "metadata": {
        "id": "EijJqs9ak5bR"
      }
    },
    {
      "cell_type": "markdown",
      "source": [
        "## Loading the dataset"
      ],
      "metadata": {
        "id": "YwQDJdAubQ55"
      }
    },
    {
      "cell_type": "markdown",
      "source": [
        "Google Drive dataset link for convenience: https://drive.google.com/drive/folders/1LclUCgK7JFVRU_oDQGQ-PH22YQTxc2kT"
      ],
      "metadata": {
        "id": "r0syeCssWxR4"
      }
    },
    {
      "cell_type": "code",
      "source": [
        "local_path = '/content/drive'\n",
        "remote_path = 'MyDrive/Rosie/'\n",
        "\n",
        "from google.colab import drive\n",
        "from pathlib import Path\n",
        "\n",
        "drive.mount(local_path)"
      ],
      "metadata": {
        "id": "MvKNUug-HcLr",
        "colab": {
          "base_uri": "https://localhost:8080/"
        },
        "outputId": "b56226aa-1c9a-40c4-a605-d5c09649e509"
      },
      "execution_count": 3,
      "outputs": [
        {
          "output_type": "stream",
          "name": "stdout",
          "text": [
            "Mounted at /content/drive\n"
          ]
        }
      ]
    },
    {
      "cell_type": "code",
      "source": [
        "train_zip = np.load(Path(local_path) / Path(remote_path) / 'train.npz')\n",
        "train_images = torch.tensor(train_zip[\"images\"])\n",
        "train_labels = torch.tensor(train_zip[\"labels\"])\n",
        "train_bboxes = torch.tensor(train_zip[\"bboxes\"])\n",
        "\n",
        "val_zip = np.load(Path(local_path) / Path(remote_path) / 'valid.npz')\n",
        "val_images = torch.tensor(val_zip[\"images\"])\n",
        "val_labels = torch.tensor(val_zip[\"labels\"])\n",
        "val_bboxes = torch.tensor(val_zip[\"bboxes\"])\n",
        "\n",
        "print(f\"Number of images for:\\n\\tTraining:\\t{train_images.shape[0]}\\n\\tValidation:\\t{val_images.shape[0]}\")"
      ],
      "metadata": {
        "id": "rUF3awblXwjU",
        "colab": {
          "base_uri": "https://localhost:8080/"
        },
        "outputId": "35b384e6-468b-4e96-9473-eb97fdd852d2"
      },
      "execution_count": 4,
      "outputs": [
        {
          "output_type": "stream",
          "name": "stdout",
          "text": [
            "Number of images for:\n",
            "\tTraining:\t55000\n",
            "\tValidation:\t5000\n"
          ]
        }
      ]
    },
    {
      "cell_type": "code",
      "source": [
        "print(train_images[0].shape, train_labels[0].shape, train_bboxes[0].shape, sep=\"\\n\")"
      ],
      "metadata": {
        "id": "h2PlGGfbYqVb",
        "colab": {
          "base_uri": "https://localhost:8080/"
        },
        "outputId": "1fec5475-6a48-43d4-a6d3-efcccf8704ed"
      },
      "execution_count": 5,
      "outputs": [
        {
          "output_type": "stream",
          "name": "stdout",
          "text": [
            "torch.Size([12288])\n",
            "torch.Size([2])\n",
            "torch.Size([2, 4])\n"
          ]
        }
      ]
    },
    {
      "cell_type": "markdown",
      "source": [
        "### Image and bbox visualization"
      ],
      "metadata": {
        "id": "yJoR6haKkVyQ"
      }
    },
    {
      "cell_type": "code",
      "source": [
        "def show_image_and_bboxes(image, bboxes=None, labels=None):\n",
        "    \"\"\"\n",
        "    Display image with bounding boxes and labels.\n",
        "    Assumes image is flattened 12288 values (64x64x3 RGB)\n",
        "    \"\"\"\n",
        "    # Reshape flattened image to 64x64x3 (RGB)\n",
        "    image_reshaped = image.reshape(64, 64, 3)\n",
        "\n",
        "    # Normalize to 0-1 range if needed\n",
        "    if image_reshaped.max() > 1.0:\n",
        "        image_reshaped = image_reshaped / 255.0\n",
        "\n",
        "    plt.figure(figsize=(8, 8))\n",
        "    plt.imshow(image_reshaped)\n",
        "    ax = plt.gca()\n",
        "\n",
        "    if bboxes is not None:\n",
        "        for i, bbox in enumerate(bboxes):\n",
        "            # Skip invalid bboxes (all zeros or negative values)\n",
        "            if torch.all(bbox == 0) or torch.any(bbox < 0):\n",
        "                continue\n",
        "\n",
        "            x_min, y_min, x_max, y_max = bbox.tolist()\n",
        "            width = x_max - x_min\n",
        "            height = y_max - y_min\n",
        "\n",
        "            # Only draw if bbox has positive dimensions\n",
        "            if width > 0 and height > 0:\n",
        "                rect = plt.Rectangle((x_min, y_min), width, height,\n",
        "                                   fill=False, color='red', linewidth=2)\n",
        "                ax.add_patch(rect)\n",
        "\n",
        "                # Add label if available\n",
        "                if labels is not None and i < len(labels):\n",
        "                    ax.text(x_min, y_min-5, f'Class: {labels[i].item()}',\n",
        "                           bbox={'facecolor': 'white', 'alpha': 0.8, 'pad': 2},\n",
        "                           fontsize=10, color='red')\n",
        "\n",
        "    plt.title('Sample Image with Bounding Boxes')\n",
        "    plt.axis('off')\n",
        "    plt.show()"
      ],
      "metadata": {
        "id": "MYKI6OMYYNP_"
      },
      "execution_count": 6,
      "outputs": []
    },
    {
      "cell_type": "code",
      "source": [
        "# plot figure\n",
        "# Select an image and its corresponding labels and bounding boxes from the training set\n",
        "some_image_idx = 0 # You can change this index to visualize different images\n",
        "some_image = train_images[some_image_idx]\n",
        "some_bboxes = train_bboxes[some_image_idx]\n",
        "some_labels = train_labels[some_image_idx]\n",
        "\n",
        "# Display the image with bounding boxes and labels\n",
        "show_image_and_bboxes(some_image, some_bboxes, some_labels)"
      ],
      "metadata": {
        "id": "tfF0blFdAuIj",
        "colab": {
          "base_uri": "https://localhost:8080/",
          "height": 675
        },
        "outputId": "6e3a4c55-e459-4a78-a66f-294d0d30a99c"
      },
      "execution_count": 7,
      "outputs": [
        {
          "output_type": "display_data",
          "data": {
            "text/plain": [
              "<Figure size 800x800 with 1 Axes>"
            ],
            "image/png": "[encoded data removed]"
          },
          "metadata": {}
        }
      ]
    },
    {
      "cell_type": "markdown",
      "source": [
        "### Prepare dataset for training"
      ],
      "metadata": {
        "id": "jwd8XazakimY"
      }
    },
    {
      "cell_type": "code",
      "source": [
        "# TODO: prepare dataset\n",
        "# prepare dataset block learned from chenqi yang\n",
        "# Select a subset of approximately 10,000 images from the training data\n",
        "subset_size = 10000\n",
        "train_images_subset = train_images[:subset_size]\n",
        "train_labels_subset = train_labels[:subset_size]\n",
        "train_bboxes_subset = train_bboxes[:subset_size]\n",
        "\n",
        "print(f\"Subset of training data created with size: {subset_size}\")\n",
        "\n",
        "# Select a sample from the subset for visualization\n",
        "some_image_idx_subset = 4324\n",
        "some_image_subset = train_images[:subset_size][some_image_idx_subset]\n",
        "some_bboxes_subset = train_bboxes[:subset_size][some_image_idx_subset]\n",
        "some_labels_subset = train_labels[:subset_size][some_image_idx_subset]\n",
        "\n",
        "# Display the sample from the subset\n",
        "show_image_and_bboxes(some_image_subset, some_bboxes_subset, some_labels_subset)"
      ],
      "metadata": {
        "id": "I8WaMO-mknCj",
        "colab": {
          "base_uri": "https://localhost:8080/",
          "height": 692
        },
        "outputId": "ec99bdcc-994b-4cb7-bc83-f96a832e50ec"
      },
      "execution_count": 8,
      "outputs": [
        {
          "output_type": "stream",
          "name": "stdout",
          "text": [
            "Subset of training data created with size: 10000\n"
          ]
        },
        {
          "output_type": "display_data",
          "data": {
            "text/plain": [
              "<Figure size 800x800 with 1 Axes>"
            ],
            "image/png": "[encoded data removed]"
          },
          "metadata": {}
        }
      ]
    },
    {
      "cell_type": "code",
      "source": [
        "import os\n",
        "\n",
        "# Define the base directory for the dataset\n",
        "dataset_base_dir = '/content/mnistdd_yolo'\n",
        "\n",
        "# Define directories for images and labels\n",
        "train_images_dir = os.path.join(dataset_base_dir, 'images', 'train')\n",
        "train_labels_dir = os.path.join(dataset_base_dir, 'labels', 'train')\n",
        "val_images_dir = os.path.join(dataset_base_dir, 'images', 'val')\n",
        "val_labels_dir = os.path.join(dataset_base_dir, 'labels', 'val')\n",
        "\n",
        "# Create directories if they don't exist\n",
        "os.makedirs(train_images_dir, exist_ok=True)\n",
        "os.makedirs(train_labels_dir, exist_ok=True)\n",
        "os.makedirs(val_images_dir, exist_ok=True)\n",
        "os.makedirs(val_labels_dir, exist_ok=True)\n",
        "\n",
        "print(f\"Created dataset directories in {dataset_base_dir}\")"
      ],
      "metadata": {
        "colab": {
          "base_uri": "https://localhost:8080/"
        },
        "id": "o9sBPGN2mK0t",
        "outputId": "6146e2a4-e8f6-411a-c6a5-28a7a6763b9e"
      },
      "execution_count": 9,
      "outputs": [
        {
          "output_type": "stream",
          "name": "stdout",
          "text": [
            "Created dataset directories in /content/mnistdd_yolo\n"
          ]
        }
      ]
    },
    {
      "cell_type": "code",
      "source": [
        "from PIL import Image\n",
        "import torch\n",
        "import os\n",
        "from tqdm import tqdm\n",
        "\n",
        "# Function to convert bounding box to YOLO format\n",
        "def convert_to_yolo_format(bbox, image_width, image_height):\n",
        "    \"\"\"Converts a bounding box from [x_min, y_min, x_max, y_max] to YOLO format [center_x, center_y, width, height].\"\"\"\n",
        "    x_min, y_min, x_max, y_max = bbox.tolist()\n",
        "\n",
        "    center_x = ((x_min + x_max) / 2.0) / image_width\n",
        "    center_y = ((y_min + y_max) / 2.0) / image_height\n",
        "    width = (x_max - x_min) / image_width\n",
        "    height = (y_max - y_min) / image_height\n",
        "\n",
        "    return [center_x, center_y, width, height]\n",
        "\n",
        "# Assuming image dimensions are 64x64\n",
        "image_width = 64\n",
        "image_height = 64\n",
        "\n",
        "# Define base directories for both datasets\n",
        "dataset_base_dir_subset = '/content/mnistdd_yolo_subset'\n",
        "dataset_base_dir_full = '/content/mnistdd_yolo_full'\n",
        "\n",
        "# Define directories for images and labels for the subset\n",
        "train_images_dir_subset = os.path.join(dataset_base_dir_subset, 'images', 'train')\n",
        "train_labels_dir_subset = os.path.join(dataset_base_dir_subset, 'labels', 'train')\n",
        "val_images_dir_subset = os.path.join(dataset_base_dir_subset, 'images', 'val') # Validation data is the same\n",
        "val_labels_dir_subset = os.path.join(dataset_base_dir_subset, 'labels', 'val') # Validation data is the same\n",
        "\n",
        "# Define directories for images and labels for the full dataset\n",
        "train_images_dir_full = os.path.join(dataset_base_dir_full, 'images', 'train')\n",
        "train_labels_dir_full = os.path.join(dataset_base_dir_full, 'labels', 'train')\n",
        "val_images_dir_full = os.path.join(dataset_base_dir_full, 'images', 'val') # Validation data is the same\n",
        "val_labels_dir_full = os.path.join(dataset_base_dir_full, 'labels', 'val') # Validation data is the same\n",
        "\n",
        "\n",
        "# Create directories if they don't exist for subset\n",
        "os.makedirs(train_images_dir_subset, exist_ok=True)\n",
        "os.makedirs(train_labels_dir_subset, exist_ok=True)\n",
        "os.makedirs(val_images_dir_subset, exist_ok=True)\n",
        "os.makedirs(val_labels_dir_subset, exist_ok=True)\n",
        "\n",
        "# Create directories if they don't exist for full dataset\n",
        "os.makedirs(train_images_dir_full, exist_ok=True)\n",
        "os.makedirs(train_labels_dir_full, exist_ok=True)\n",
        "os.makedirs(val_images_dir_full, exist_ok=True)\n",
        "os.makedirs(val_labels_dir_full, exist_ok=True)\n",
        "\n",
        "print(f\"Created dataset directories for subset in {dataset_base_dir_subset}\")\n",
        "print(f\"Created dataset directories for full dataset in {dataset_base_dir_full}\")\n",
        "\n",
        "# Process training data subset (10000 images) for Part A\n",
        "subset_size = 10000\n",
        "print(f\"\\nProcessing training data subset ({subset_size} images) for Part A...\")\n",
        "for i in tqdm(range(subset_size)):\n",
        "    image = train_images[i].reshape(image_height, image_width, 3).numpy()\n",
        "    labels = train_labels[i]\n",
        "    bboxes = train_bboxes[i]\n",
        "\n",
        "    # Save image for subset\n",
        "    img_path_subset = os.path.join(train_images_dir_subset, f'{i:05d}.png')\n",
        "    img = Image.fromarray(image.astype('uint8'), 'RGB')\n",
        "    img.save(img_path_subset)\n",
        "\n",
        "    # Save labels for subset in YOLO format\n",
        "    label_path_subset = os.path.join(train_labels_dir_subset, f'{i:05d}.txt')\n",
        "    with open(label_path_subset, 'w') as f:\n",
        "        for j in range(labels.shape[0]):\n",
        "            label = labels[j].item()\n",
        "            bbox_original = bboxes[j]\n",
        "            bbox_yolo = convert_to_yolo_format(bbox_original, image_width, image_height)\n",
        "            f.write(f'{label} {bbox_yolo[0]:.6f} {bbox_yolo[1]:.6f} {bbox_yolo[2]:.6f} {bbox_yolo[3]:.6f}\\n')\n",
        "\n",
        "# Process the full training data (55000 images) for Part B\n",
        "print(f\"\\nProcessing full training data ({train_images.shape[0]} images) for Part B...\")\n",
        "for i in tqdm(range(len(train_images))):\n",
        "    image = train_images[i].reshape(image_height, image_width, 3).numpy()\n",
        "    labels = train_labels[i]\n",
        "    bboxes = train_bboxes[i]\n",
        "\n",
        "    # Save image for full dataset\n",
        "    img_path_full = os.path.join(train_images_dir_full, f'{i:05d}.png')\n",
        "    img = Image.fromarray(image.astype('uint8'), 'RGB')\n",
        "    img.save(img_path_full)\n",
        "\n",
        "    # Save labels for full dataset in YOLO format\n",
        "    label_path_full = os.path.join(train_labels_dir_full, f'{i:05d}.txt')\n",
        "    with open(label_path_full, 'w') as f:\n",
        "        for j in range(labels.shape[0]):\n",
        "            label = labels[j].item()\n",
        "            bbox_original = bboxes[j]\n",
        "            bbox_yolo = convert_to_yolo_format(bbox_original, image_width, image_height)\n",
        "            f.write(f'{label} {bbox_yolo[0]:.6f} {bbox_yolo[1]:.6f} {bbox_yolo[2]:.6f} {bbox_yolo[3]:.6f}\\n')\n",
        "\n",
        "\n",
        "# Process validation data (same for both Part A and Part B)\n",
        "print(\"\\nProcessing validation data...\")\n",
        "for i in tqdm(range(len(val_images))):\n",
        "    image = val_images[i].reshape(image_height, image_width, 3).numpy()\n",
        "    labels = val_labels[i]\n",
        "    bboxes = val_bboxes[i]\n",
        "\n",
        "    # Save image for subset validation\n",
        "    img_path_val_subset = os.path.join(val_images_dir_subset, f'{i:05d}.png')\n",
        "    img = Image.fromarray(image.astype('uint8'), 'RGB')\n",
        "    img.save(img_path_val_subset)\n",
        "\n",
        "     # Save labels for subset validation in YOLO format\n",
        "    label_path_val_subset = os.path.join(val_labels_dir_subset, f'{i:05d}.txt')\n",
        "    with open(label_path_val_subset, 'w') as f:\n",
        "        for j in range(labels.shape[0]):\n",
        "            label = labels[j].item()\n",
        "            bbox_original = bboxes[j]\n",
        "            bbox_yolo = convert_to_yolo_format(bbox_original, image_width, image_height)\n",
        "            f.write(f'{label} {bbox_yolo[0]:.6f} {bbox_yolo[1]:.6f} {bbox_yolo[2]:.6f} {bbox_yolo[3]:.6f}\\n')\n",
        "\n",
        "\n",
        "    # Save image for full dataset validation (optional, as it's the same data)\n",
        "    img_path_val_full = os.path.join(val_images_dir_full, f'{i:05d}.png')\n",
        "    img = Image.fromarray(image.astype('uint8'), 'RGB')\n",
        "    img.save(img_path_val_full)\n",
        "\n",
        "    # Save labels for full dataset validation in YOLO format (optional)\n",
        "    label_path_val_full = os.path.join(val_labels_dir_full, f'{i:05d}.txt')\n",
        "    with open(label_path_val_full, 'w') as f:\n",
        "        for j in range(labels.shape[0]):\n",
        "            label = labels[j].item()\n",
        "            bbox_original = bboxes[j]\n",
        "            bbox_yolo = convert_to_yolo_format(bbox_original, image_width, image_height)\n",
        "            f.write(f'{label} {bbox_yolo[0]:.6f} {bbox_yolo[1]:.6f} {bbox_yolo[2]:.6f} {bbox_yolo[3]:.6f}\\n')\n",
        "\n",
        "\n",
        "print(\"\\nDataset conversion to YOLO format complete for both subset and full datasets.\")"
      ],
      "metadata": {
        "colab": {
          "base_uri": "https://localhost:8080/"
        },
        "id": "YnIEBEdlmLuy",
        "outputId": "6d63f6e7-666b-4bd4-a8ae-04095ce74b9b"
      },
      "execution_count": 10,
      "outputs": [
        {
          "output_type": "stream",
          "name": "stdout",
          "text": [
            "Created dataset directories for subset in /content/mnistdd_yolo_subset\n",
            "Created dataset directories for full dataset in /content/mnistdd_yolo_full\n",
            "\n",
            "Processing training data subset (10000 images) for Part A...\n"
          ]
        },
        {
          "output_type": "stream",
          "name": "stderr",
          "text": [
            "  0%|          | 0/10000 [00:00<?, ?it/s]/tmp/ipython-input-983251621.py:64: DeprecationWarning: 'mode' parameter is deprecated and will be removed in Pillow 13 (2026-10-15)\n",
            "  img = Image.fromarray(image.astype('uint8'), 'RGB')\n",
            "100%|██████████| 10000/10000 [00:12<00:00, 772.75it/s]\n"
          ]
        },
        {
          "output_type": "stream",
          "name": "stdout",
          "text": [
            "\n",
            "Processing full training data (55000 images) for Part B...\n"
          ]
        },
        {
          "output_type": "stream",
          "name": "stderr",
          "text": [
            "\r  0%|          | 0/55000 [00:00<?, ?it/s]/tmp/ipython-input-983251621.py:85: DeprecationWarning: 'mode' parameter is deprecated and will be removed in Pillow 13 (2026-10-15)\n",
            "  img = Image.fromarray(image.astype('uint8'), 'RGB')\n",
            "100%|██████████| 55000/55000 [01:07<00:00, 814.55it/s]\n"
          ]
        },
        {
          "output_type": "stream",
          "name": "stdout",
          "text": [
            "\n",
            "Processing validation data...\n"
          ]
        },
        {
          "output_type": "stream",
          "name": "stderr",
          "text": [
            "\r  0%|          | 0/5000 [00:00<?, ?it/s]/tmp/ipython-input-983251621.py:107: DeprecationWarning: 'mode' parameter is deprecated and will be removed in Pillow 13 (2026-10-15)\n",
            "  img = Image.fromarray(image.astype('uint8'), 'RGB')\n",
            "/tmp/ipython-input-983251621.py:122: DeprecationWarning: 'mode' parameter is deprecated and will be removed in Pillow 13 (2026-10-15)\n",
            "  img = Image.fromarray(image.astype('uint8'), 'RGB')\n",
            "100%|██████████| 5000/5000 [00:11<00:00, 421.22it/s]"
          ]
        },
        {
          "output_type": "stream",
          "name": "stdout",
          "text": [
            "\n",
            "Dataset conversion to YOLO format complete for both subset and full datasets.\n"
          ]
        },
        {
          "output_type": "stream",
          "name": "stderr",
          "text": [
            "\n"
          ]
        }
      ]
    },
    {
      "cell_type": "code",
      "source": [
        "import yaml\n",
        "import os\n",
        "\n",
        "# Define the path to the dataset base directory for the full dataset\n",
        "dataset_base_dir_full = '/content/mnistdd_yolo_full' # Use the full dataset directory\n",
        "\n",
        "# Define the class names (assuming digits 0-9)\n",
        "class_names = [str(i) for i in range(10)]\n",
        "\n",
        "# Create the data dictionary for the full dataset\n",
        "data_full = dict(\n",
        "    train=os.path.join(dataset_base_dir_full, 'images', 'train'),\n",
        "    val=os.path.join(dataset_base_dir_full, 'images', 'val'), # Validation data is the same for both\n",
        "    nc=len(class_names),\n",
        "    names=class_names\n",
        ")\n",
        "\n",
        "# Define the path for the YAML file for the full dataset\n",
        "yaml_path_full = '/content/mnistdd_yolo_full.yaml' # New YAML file for the full dataset\n",
        "\n",
        "# Write the data to the YAML file for the full dataset\n",
        "with open(yaml_path_full, 'w') as outfile:\n",
        "    yaml.dump(data_full, outfile, default_flow_style=None)\n",
        "\n",
        "print(f\"YAML configuration file for full dataset created at: {yaml_path_full}\")\n",
        "print(\"\\nContent of the YAML file for full dataset:\")\n",
        "with open(yaml_path_full, 'r') as f:\n",
        "    print(f.read())\n",
        "\n",
        "# The original yaml_path variable might still be used by Part A,\n",
        "# so we'll keep the original yaml_path pointing to the subset data if needed.\n",
        "# If Part A uses the original '/content/mnistdd_yolo' directory which now contains full data,\n",
        "# you might need to adjust Part A's training code to point to the subset YAML instead.\n",
        "# For now, we assume the original yaml_path is used for Part A and points to the subset.\n",
        "# If Part A's YAML was also generated in this cell, you might need to uncomment and adjust the following:\n",
        "\n",
        "dataset_base_dir_subset = '/content/mnistdd_yolo_subset'\n",
        "yaml_path_subset = '/content/mnistdd_yolo_subset.yaml'\n",
        "data_subset = dict(\n",
        "    train=os.path.join(dataset_base_dir_subset, 'images', 'train'),\n",
        "    val=os.path.join(dataset_base_dir_subset, 'images', 'val'),\n",
        "    nc=len(class_names),\n",
        "    names=class_names\n",
        ")\n",
        "with open(yaml_path_subset, 'w') as outfile:\n",
        "    yaml.dump(data_subset, outfile, default_flow_style=None)\n",
        "print(f\"\\nYAML configuration file for subset created at: {yaml_path_subset}\")"
      ],
      "metadata": {
        "colab": {
          "base_uri": "https://localhost:8080/"
        },
        "id": "Ua6tt0a4mPiA",
        "outputId": "b98e82fd-139f-4c9b-9f2a-c01b5e0f30cc"
      },
      "execution_count": 11,
      "outputs": [
        {
          "output_type": "stream",
          "name": "stdout",
          "text": [
            "YAML configuration file for full dataset created at: /content/mnistdd_yolo_full.yaml\n",
            "\n",
            "Content of the YAML file for full dataset:\n",
            "names: ['0', '1', '2', '3', '4', '5', '6', '7', '8', '9']\n",
            "nc: 10\n",
            "train: /content/mnistdd_yolo_full/images/train\n",
            "val: /content/mnistdd_yolo_full/images/val\n",
            "\n",
            "\n",
            "YAML configuration file for subset created at: /content/mnistdd_yolo_subset.yaml\n"
          ]
        }
      ]
    },
    {
      "cell_type": "markdown",
      "source": [
        "## Training the Model"
      ],
      "metadata": {
        "id": "fJX0LHiWFE7o"
      }
    },
    {
      "cell_type": "code",
      "source": [
        "!pip install -q ultralytics"
      ],
      "metadata": {
        "colab": {
          "base_uri": "https://localhost:8080/"
        },
        "id": "YqFxPu-2l2Mr",
        "outputId": "e3019911-ddf5-433d-908f-2cc67a31f0bc"
      },
      "execution_count": 12,
      "outputs": [
        {
          "output_type": "stream",
          "name": "stdout",
          "text": [
            "\u001b[?25l   \u001b[90m━━━━━━━━━━━━━━━━━━━━━━━━━━━━━━━━━━━━━━━━\u001b[0m \u001b[32m0.0/1.1 MB\u001b[0m \u001b[31m?\u001b[0m eta \u001b[36m-:--:--\u001b[0m\r\u001b[2K   \u001b[91m━━━━━━━━━━━━━━━━━━━━━━━━━━━━━━━━━━━━━━━\u001b[0m\u001b[91m╸\u001b[0m \u001b[32m1.1/1.1 MB\u001b[0m \u001b[31m33.4 MB/s\u001b[0m eta \u001b[36m0:00:01\u001b[0m\r\u001b[2K   \u001b[90m━━━━━━━━━━━━━━━━━━━━━━━━━━━━━━━━━━━━━━━━\u001b[0m \u001b[32m1.1/1.1 MB\u001b[0m \u001b[31m24.8 MB/s\u001b[0m eta \u001b[36m0:00:00\u001b[0m\n",
            "\u001b[?25h"
          ]
        }
      ]
    },
    {
      "cell_type": "code",
      "source": [
        "# TODO: train the model on the train set (you may use convenience functions, e.g., model.train(dataset, hyperparameters))\n",
        "from ultralytics import YOLO\n",
        "\n",
        "# Load a pretrained YOLOv8 nano model\n",
        "model = YOLO('yolov8n.pt')\n",
        "\n",
        "print(\"YOLOv8 nano model loaded successfully.\")"
      ],
      "metadata": {
        "id": "68lKS8iEkwIY",
        "colab": {
          "base_uri": "https://localhost:8080/"
        },
        "outputId": "308f99bd-6480-4809-e8af-f8f283676e5d"
      },
      "execution_count": 13,
      "outputs": [
        {
          "output_type": "stream",
          "name": "stdout",
          "text": [
            "Creating new Ultralytics Settings v0.0.6 file ✅ \n",
            "View Ultralytics Settings with 'yolo settings' or at '/root/.config/Ultralytics/settings.json'\n",
            "Update Settings with 'yolo settings key=value', i.e. 'yolo settings runs_dir=path/to/dir'. For help see https://docs.ultralytics.com/quickstart/#ultralytics-settings.\n",
            "\u001b[KDownloading https://github.com/ultralytics/assets/releases/download/v8.3.0/yolov8n.pt to 'yolov8n.pt': 100% ━━━━━━━━━━━━ 6.2MB 133.0MB/s 0.0s\n",
            "YOLOv8 nano model loaded successfully.\n"
          ]
        }
      ]
    },
    {
      "cell_type": "code",
      "source": [
        "# Train model\n",
        "model.train(\n",
        "    data=yaml_path_subset,\n",
        "    epochs=15,\n",
        "    imgsz=64,\n",
        "    batch=32,\n",
        "    device=0,\n",
        "    name=\"mnistdd_yolo8n\",\n",
        "    project=\"runs/train\",\n",
        "    lr0=1e-3\n",
        ")"
      ],
      "metadata": {
        "colab": {
          "base_uri": "https://localhost:8080/"
        },
        "id": "GGTDh8fdl6Nc",
        "outputId": "2de84160-4d45-43e9-976b-bbe2705799f7"
      },
      "execution_count": 16,
      "outputs": [
        {
          "output_type": "stream",
          "name": "stdout",
          "text": [
            "Ultralytics 8.3.221 🚀 Python-3.12.12 torch-2.8.0+cu126 CUDA:0 (Tesla T4, 15095MiB)\n",
            "\u001b[34m\u001b[1mengine/trainer: \u001b[0magnostic_nms=False, amp=True, augment=False, auto_augment=randaugment, batch=32, bgr=0.0, box=7.5, cache=False, cfg=None, classes=None, close_mosaic=10, cls=0.5, compile=False, conf=None, copy_paste=0.0, copy_paste_mode=flip, cos_lr=False, cutmix=0.0, data=/content/mnistdd_yolo_subset.yaml, degrees=0.0, deterministic=True, device=0, dfl=1.5, dnn=False, dropout=0.0, dynamic=False, embed=None, epochs=15, erasing=0.4, exist_ok=False, fliplr=0.5, flipud=0.0, format=torchscript, fraction=1.0, freeze=None, half=False, hsv_h=0.015, hsv_s=0.7, hsv_v=0.4, imgsz=64, int8=False, iou=0.7, keras=False, kobj=1.0, line_width=None, lr0=0.001, lrf=0.01, mask_ratio=4, max_det=300, mixup=0.0, mode=train, model=yolov8n.pt, momentum=0.937, mosaic=1.0, multi_scale=False, name=mnistdd_yolo8n, nbs=64, nms=False, opset=None, optimize=False, optimizer=auto, overlap_mask=True, patience=100, perspective=0.0, plots=True, pose=12.0, pretrained=True, profile=False, project=runs/train, rect=False, resume=False, retina_masks=False, save=True, save_conf=False, save_crop=False, save_dir=/content/runs/train/mnistdd_yolo8n, save_frames=False, save_json=False, save_period=-1, save_txt=False, scale=0.5, seed=0, shear=0.0, show=False, show_boxes=True, show_conf=True, show_labels=True, simplify=True, single_cls=False, source=None, split=val, stream_buffer=False, task=detect, time=None, tracker=botsort.yaml, translate=0.1, val=True, verbose=True, vid_stride=1, visualize=False, warmup_bias_lr=0.1, warmup_epochs=3.0, warmup_momentum=0.8, weight_decay=0.0005, workers=8, workspace=None\n",
            "\u001b[KDownloading https://ultralytics.com/assets/Arial.ttf to '/root/.config/Ultralytics/Arial.ttf': 100% ━━━━━━━━━━━━ 755.1KB 106.9MB/s 0.0s\n",
            "Overriding model.yaml nc=80 with nc=10\n",
            "\n",
            "                   from  n    params  module                                       arguments                     \n",
            "  0                  -1  1       464  ultralytics.nn.modules.conv.Conv             [3, 16, 3, 2]                 \n",
            "  1                  -1  1      4672  ultralytics.nn.modules.conv.Conv             [16, 32, 3, 2]                \n",
            "  2                  -1  1      7360  ultralytics.nn.modules.block.C2f             [32, 32, 1, True]             \n",
            "  3                  -1  1     18560  ultralytics.nn.modules.conv.Conv             [32, 64, 3, 2]                \n",
            "  4                  -1  2     49664  ultralytics.nn.modules.block.C2f             [64, 64, 2, True]             \n",
            "  5                  -1  1     73984  ultralytics.nn.modules.conv.Conv             [64, 128, 3, 2]               \n",
            "  6                  -1  2    197632  ultralytics.nn.modules.block.C2f             [128, 128, 2, True]           \n",
            "  7                  -1  1    295424  ultralytics.nn.modules.conv.Conv             [128, 256, 3, 2]              \n",
            "  8                  -1  1    460288  ultralytics.nn.modules.block.C2f             [256, 256, 1, True]           \n",
            "  9                  -1  1    164608  ultralytics.nn.modules.block.SPPF            [256, 256, 5]                 \n",
            " 10                  -1  1         0  torch.nn.modules.upsampling.Upsample         [None, 2, 'nearest']          \n",
            " 11             [-1, 6]  1         0  ultralytics.nn.modules.conv.Concat           [1]                           \n",
            " 12                  -1  1    148224  ultralytics.nn.modules.block.C2f             [384, 128, 1]                 \n",
            " 13                  -1  1         0  torch.nn.modules.upsampling.Upsample         [None, 2, 'nearest']          \n",
            " 14             [-1, 4]  1         0  ultralytics.nn.modules.conv.Concat           [1]                           \n",
            " 15                  -1  1     37248  ultralytics.nn.modules.block.C2f             [192, 64, 1]                  \n",
            " 16                  -1  1     36992  ultralytics.nn.modules.conv.Conv             [64, 64, 3, 2]                \n",
            " 17            [-1, 12]  1         0  ultralytics.nn.modules.conv.Concat           [1]                           \n",
            " 18                  -1  1    123648  ultralytics.nn.modules.block.C2f             [192, 128, 1]                 \n",
            " 19                  -1  1    147712  ultralytics.nn.modules.conv.Conv             [128, 128, 3, 2]              \n",
            " 20             [-1, 9]  1         0  ultralytics.nn.modules.conv.Concat           [1]                           \n",
            " 21                  -1  1    493056  ultralytics.nn.modules.block.C2f             [384, 256, 1]                 \n",
            " 22        [15, 18, 21]  1    753262  ultralytics.nn.modules.head.Detect           [10, [64, 128, 256]]          \n",
            "Model summary: 129 layers, 3,012,798 parameters, 3,012,782 gradients, 8.2 GFLOPs\n",
            "\n",
            "Transferred 319/355 items from pretrained weights\n",
            "Freezing layer 'model.22.dfl.conv.weight'\n",
            "\u001b[34m\u001b[1mAMP: \u001b[0mrunning Automatic Mixed Precision (AMP) checks...\n",
            "\u001b[KDownloading https://github.com/ultralytics/assets/releases/download/v8.3.0/yolo11n.pt to 'yolo11n.pt': 100% ━━━━━━━━━━━━ 5.4MB 47.9MB/s 0.1s\n",
            "\u001b[34m\u001b[1mAMP: \u001b[0mchecks passed ✅\n",
            "\u001b[34m\u001b[1mtrain: \u001b[0mFast image access ✅ (ping: 0.0±0.0 ms, read: 98.1±99.0 MB/s, size: 2.4 KB)\n",
            "\u001b[K\u001b[34m\u001b[1mtrain: \u001b[0mScanning /content/mnistdd_yolo_subset/labels/train... 10000 images, 0 backgrounds, 0 corrupt: 100% ━━━━━━━━━━━━ 10000/10000 2.3Kit/s 4.3s\n",
            "\u001b[34m\u001b[1mtrain: \u001b[0mNew cache created: /content/mnistdd_yolo_subset/labels/train.cache\n",
            "\u001b[34m\u001b[1malbumentations: \u001b[0mBlur(p=0.01, blur_limit=(3, 7)), MedianBlur(p=0.01, blur_limit=(3, 7)), ToGray(p=0.01, method='weighted_average', num_output_channels=3), CLAHE(p=0.01, clip_limit=(1.0, 4.0), tile_grid_size=(8, 8))\n",
            "\u001b[34m\u001b[1mval: \u001b[0mFast image access ✅ (ping: 0.0±0.0 ms, read: 144.0±67.1 MB/s, size: 3.9 KB)\n",
            "\u001b[K\u001b[34m\u001b[1mval: \u001b[0mScanning /content/mnistdd_yolo_subset/labels/val... 5000 images, 0 backgrounds, 0 corrupt: 100% ━━━━━━━━━━━━ 5000/5000 2.2Kit/s 2.2s\n",
            "\u001b[34m\u001b[1mval: \u001b[0mNew cache created: /content/mnistdd_yolo_subset/labels/val.cache\n",
            "Plotting labels to /content/runs/train/mnistdd_yolo8n/labels.jpg... \n",
            "\u001b[34m\u001b[1moptimizer:\u001b[0m 'optimizer=auto' found, ignoring 'lr0=0.001' and 'momentum=0.937' and determining best 'optimizer', 'lr0' and 'momentum' automatically... \n",
            "\u001b[34m\u001b[1moptimizer:\u001b[0m AdamW(lr=0.000714, momentum=0.9) with parameter groups 57 weight(decay=0.0), 64 weight(decay=0.0005), 63 bias(decay=0.0)\n",
            "Image sizes 64 train, 64 val\n",
            "Using 2 dataloader workers\n",
            "Logging results to \u001b[1m/content/runs/train/mnistdd_yolo8n\u001b[0m\n",
            "Starting training for 15 epochs...\n",
            "\n",
            "      Epoch    GPU_mem   box_loss   cls_loss   dfl_loss  Instances       Size\n",
            "\u001b[K       1/15     0.158G       2.08      3.379      1.046         41         64: 100% ━━━━━━━━━━━━ 313/313 7.4it/s 42.1s\n",
            "\u001b[K                 Class     Images  Instances      Box(P          R      mAP50  mAP50-95): 100% ━━━━━━━━━━━━ 79/79 4.6it/s 17.1s\n",
            "                   all       5000      10000      0.455       0.53      0.493      0.288\n",
            "\n",
            "      Epoch    GPU_mem   box_loss   cls_loss   dfl_loss  Instances       Size\n",
            "\u001b[K       2/15     0.186G      1.569      1.613     0.9241         58         64: 100% ━━━━━━━━━━━━ 313/313 8.6it/s 36.2s\n",
            "\u001b[K                 Class     Images  Instances      Box(P          R      mAP50  mAP50-95): 100% ━━━━━━━━━━━━ 79/79 5.0it/s 15.9s\n",
            "                   all       5000      10000      0.764      0.684      0.772      0.446\n",
            "\n",
            "      Epoch    GPU_mem   box_loss   cls_loss   dfl_loss  Instances       Size\n",
            "\u001b[K       3/15     0.203G      1.453      1.375     0.9076         42         64: 100% ━━━━━━━━━━━━ 313/313 8.9it/s 35.0s\n",
            "\u001b[K                 Class     Images  Instances      Box(P          R      mAP50  mAP50-95): 100% ━━━━━━━━━━━━ 79/79 5.0it/s 15.9s\n",
            "                   all       5000      10000       0.81       0.74      0.852      0.567\n",
            "\n",
            "      Epoch    GPU_mem   box_loss   cls_loss   dfl_loss  Instances       Size\n",
            "\u001b[K       4/15     0.219G      1.404      1.253      0.901         48         64: 100% ━━━━━━━━━━━━ 313/313 9.0it/s 34.9s\n",
            "\u001b[K                 Class     Images  Instances      Box(P          R      mAP50  mAP50-95): 100% ━━━━━━━━━━━━ 79/79 4.8it/s 16.3s\n",
            "                   all       5000      10000      0.856      0.794      0.885       0.58\n",
            "\n",
            "      Epoch    GPU_mem   box_loss   cls_loss   dfl_loss  Instances       Size\n",
            "\u001b[K       5/15     0.236G      1.332      1.152     0.8913         47         64: 100% ━━━━━━━━━━━━ 313/313 9.3it/s 33.7s\n",
            "\u001b[K                 Class     Images  Instances      Box(P          R      mAP50  mAP50-95): 100% ━━━━━━━━━━━━ 79/79 4.6it/s 17.1s\n",
            "                   all       5000      10000       0.88      0.822      0.909      0.622\n",
            "Closing dataloader mosaic\n",
            "\u001b[34m\u001b[1malbumentations: \u001b[0mBlur(p=0.01, blur_limit=(3, 7)), MedianBlur(p=0.01, blur_limit=(3, 7)), ToGray(p=0.01, method='weighted_average', num_output_channels=3), CLAHE(p=0.01, clip_limit=(1.0, 4.0), tile_grid_size=(8, 8))\n",
            "\n",
            "      Epoch    GPU_mem   box_loss   cls_loss   dfl_loss  Instances       Size\n",
            "\u001b[K       6/15     0.254G       1.06       0.81     0.8558         32         64: 100% ━━━━━━━━━━━━ 313/313 9.5it/s 33.0s\n",
            "\u001b[K                 Class     Images  Instances      Box(P          R      mAP50  mAP50-95): 100% ━━━━━━━━━━━━ 79/79 4.8it/s 16.4s\n",
            "                   all       5000      10000      0.848      0.794        0.9      0.598\n",
            "\n",
            "      Epoch    GPU_mem   box_loss   cls_loss   dfl_loss  Instances       Size\n",
            "\u001b[K       7/15     0.271G      1.001     0.7334      0.845         32         64: 100% ━━━━━━━━━━━━ 313/313 9.3it/s 33.5s\n",
            "\u001b[K                 Class     Images  Instances      Box(P          R      mAP50  mAP50-95): 100% ━━━━━━━━━━━━ 79/79 4.9it/s 16.0s\n",
            "                   all       5000      10000       0.88      0.811      0.921      0.627\n",
            "\n",
            "      Epoch    GPU_mem   box_loss   cls_loss   dfl_loss  Instances       Size\n",
            "\u001b[K       8/15     0.287G     0.9619     0.6859       0.84         32         64: 100% ━━━━━━━━━━━━ 313/313 9.6it/s 32.7s\n",
            "\u001b[K                 Class     Images  Instances      Box(P          R      mAP50  mAP50-95): 100% ━━━━━━━━━━━━ 79/79 4.6it/s 17.3s\n",
            "                   all       5000      10000      0.838      0.814      0.899      0.594\n",
            "\n",
            "      Epoch    GPU_mem   box_loss   cls_loss   dfl_loss  Instances       Size\n",
            "\u001b[K       9/15     0.305G     0.9337     0.6572     0.8364         32         64: 100% ━━━━━━━━━━━━ 313/313 9.7it/s 32.3s\n",
            "\u001b[K                 Class     Images  Instances      Box(P          R      mAP50  mAP50-95): 100% ━━━━━━━━━━━━ 79/79 4.9it/s 16.1s\n",
            "                   all       5000      10000      0.778      0.777      0.857      0.476\n",
            "\n",
            "      Epoch    GPU_mem   box_loss   cls_loss   dfl_loss  Instances       Size\n",
            "\u001b[K      10/15     0.322G     0.9102     0.6301     0.8316         32         64: 100% ━━━━━━━━━━━━ 313/313 9.3it/s 33.5s\n",
            "\u001b[K                 Class     Images  Instances      Box(P          R      mAP50  mAP50-95): 100% ━━━━━━━━━━━━ 79/79 4.9it/s 16.2s\n",
            "                   all       5000      10000      0.785      0.755      0.855      0.482\n",
            "\n",
            "      Epoch    GPU_mem   box_loss   cls_loss   dfl_loss  Instances       Size\n",
            "\u001b[K      11/15     0.338G      0.894     0.6101      0.831         32         64: 100% ━━━━━━━━━━━━ 313/313 9.7it/s 32.2s\n",
            "\u001b[K                 Class     Images  Instances      Box(P          R      mAP50  mAP50-95): 100% ━━━━━━━━━━━━ 79/79 4.7it/s 16.9s\n",
            "                   all       5000      10000      0.757      0.767      0.841      0.457\n",
            "\n",
            "      Epoch    GPU_mem   box_loss   cls_loss   dfl_loss  Instances       Size\n",
            "\u001b[K      12/15     0.355G     0.8709     0.5859     0.8257         32         64: 100% ━━━━━━━━━━━━ 313/313 9.7it/s 32.4s\n",
            "\u001b[K                 Class     Images  Instances      Box(P          R      mAP50  mAP50-95): 100% ━━━━━━━━━━━━ 79/79 4.9it/s 16.1s\n",
            "                   all       5000      10000      0.808       0.79       0.88      0.526\n",
            "\n",
            "      Epoch    GPU_mem   box_loss   cls_loss   dfl_loss  Instances       Size\n",
            "\u001b[K      13/15     0.373G     0.8509     0.5716     0.8255         32         64: 100% ━━━━━━━━━━━━ 313/313 9.3it/s 33.6s\n",
            "\u001b[K                 Class     Images  Instances      Box(P          R      mAP50  mAP50-95): 100% ━━━━━━━━━━━━ 79/79 4.9it/s 16.0s\n",
            "                   all       5000      10000      0.836      0.805      0.898      0.547\n",
            "\n",
            "      Epoch    GPU_mem   box_loss   cls_loss   dfl_loss  Instances       Size\n",
            "\u001b[K      14/15     0.391G     0.8362     0.5531     0.8257         32         64: 100% ━━━━━━━━━━━━ 313/313 9.7it/s 32.2s\n",
            "\u001b[K                 Class     Images  Instances      Box(P          R      mAP50  mAP50-95): 100% ━━━━━━━━━━━━ 79/79 4.8it/s 16.3s\n",
            "                   all       5000      10000      0.824        0.8       0.89       0.52\n",
            "\n",
            "      Epoch    GPU_mem   box_loss   cls_loss   dfl_loss  Instances       Size\n",
            "\u001b[K      15/15     0.406G     0.8206     0.5417     0.8222         32         64: 100% ━━━━━━━━━━━━ 313/313 9.5it/s 32.8s\n",
            "\u001b[K                 Class     Images  Instances      Box(P          R      mAP50  mAP50-95): 100% ━━━━━━━━━━━━ 79/79 4.9it/s 16.0s\n",
            "                   all       5000      10000      0.814      0.784      0.882      0.519\n",
            "\n",
            "15 epochs completed in 0.212 hours.\n",
            "Optimizer stripped from /content/runs/train/mnistdd_yolo8n/weights/last.pt, 6.2MB\n",
            "Optimizer stripped from /content/runs/train/mnistdd_yolo8n/weights/best.pt, 6.2MB\n",
            "\n",
            "Validating /content/runs/train/mnistdd_yolo8n/weights/best.pt...\n",
            "Ultralytics 8.3.221 🚀 Python-3.12.12 torch-2.8.0+cu126 CUDA:0 (Tesla T4, 15095MiB)\n",
            "Model summary (fused): 72 layers, 3,007,598 parameters, 0 gradients, 8.1 GFLOPs\n",
            "\u001b[K                 Class     Images  Instances      Box(P          R      mAP50  mAP50-95): 100% ━━━━━━━━━━━━ 79/79 3.9it/s 20.2s\n",
            "                   all       5000      10000       0.88      0.811      0.921      0.627\n",
            "                     0        946        996      0.838      0.943      0.963      0.724\n",
            "                     1        928        985      0.907      0.586      0.788      0.427\n",
            "                     2        943        989      0.845       0.91      0.951      0.675\n",
            "                     3        953       1010      0.901      0.793      0.917      0.659\n",
            "                     4        983       1034      0.924      0.793      0.934      0.603\n",
            "                     5        980       1026      0.764      0.914      0.937       0.65\n",
            "                     6        900        941      0.939      0.759      0.921      0.656\n",
            "                     7        916        966      0.781      0.928      0.947      0.665\n",
            "                     8        988       1040      0.953      0.763       0.94      0.645\n",
            "                     9        956       1013      0.944      0.721      0.911      0.568\n",
            "Speed: 0.0ms preprocess, 0.3ms inference, 0.0ms loss, 1.2ms postprocess per image\n",
            "Results saved to \u001b[1m/content/runs/train/mnistdd_yolo8n\u001b[0m\n"
          ]
        },
        {
          "output_type": "execute_result",
          "data": {
            "text/plain": [
              "ultralytics.utils.metrics.DetMetrics object with attributes:\n",
              "\n",
              "ap_class_index: array([0, 1, 2, 3, 4, 5, 6, 7, 8, 9])\n",
              "box: ultralytics.utils.metrics.Metric object\n",
              "confusion_matrix: <ultralytics.utils.metrics.ConfusionMatrix object at 0x781fc35363c0>\n",
              "curves: ['Precision-Recall(B)', 'F1-Confidence(B)', 'Precision-Confidence(B)', 'Recall-Confidence(B)']\n",
              "curves_results: [[array([          0,    0.001001,    0.002002,    0.003003,    0.004004,    0.005005,    0.006006,    0.007007,    0.008008,    0.009009,     0.01001,    0.011011,    0.012012,    0.013013,    0.014014,    0.015015,    0.016016,    0.017017,    0.018018,    0.019019,     0.02002,    0.021021,    0.022022,    0.023023,\n",
              "          0.024024,    0.025025,    0.026026,    0.027027,    0.028028,    0.029029,     0.03003,    0.031031,    0.032032,    0.033033,    0.034034,    0.035035,    0.036036,    0.037037,    0.038038,    0.039039,     0.04004,    0.041041,    0.042042,    0.043043,    0.044044,    0.045045,    0.046046,    0.047047,\n",
              "          0.048048,    0.049049,     0.05005,    0.051051,    0.052052,    0.053053,    0.054054,    0.055055,    0.056056,    0.057057,    0.058058,    0.059059,     0.06006,    0.061061,    0.062062,    0.063063,    0.064064,    0.065065,    0.066066,    0.067067,    0.068068,    0.069069,     0.07007,    0.071071,\n",
              "          0.072072,    0.073073,    0.074074,    0.075075,    0.076076,    0.077077,    0.078078,    0.079079,     0.08008,    0.081081,    0.082082,    0.083083,    0.084084,    0.085085,    0.086086,    0.087087,    0.088088,    0.089089,     0.09009,    0.091091,    0.092092,    0.093093,    0.094094,    0.095095,\n",
              "          0.096096,    0.097097,    0.098098,    0.099099,      0.1001,      0.1011,      0.1021,      0.1031,      0.1041,     0.10511,     0.10611,     0.10711,     0.10811,     0.10911,     0.11011,     0.11111,     0.11211,     0.11311,     0.11411,     0.11512,     0.11612,     0.11712,     0.11812,     0.11912,\n",
              "           0.12012,     0.12112,     0.12212,     0.12312,     0.12412,     0.12513,     0.12613,     0.12713,     0.12813,     0.12913,     0.13013,     0.13113,     0.13213,     0.13313,     0.13413,     0.13514,     0.13614,     0.13714,     0.13814,     0.13914,     0.14014,     0.14114,     0.14214,     0.14314,\n",
              "           0.14414,     0.14515,     0.14615,     0.14715,     0.14815,     0.14915,     0.15015,     0.15115,     0.15215,     0.15315,     0.15415,     0.15516,     0.15616,     0.15716,     0.15816,     0.15916,     0.16016,     0.16116,     0.16216,     0.16316,     0.16416,     0.16517,     0.16617,     0.16717,\n",
              "           0.16817,     0.16917,     0.17017,     0.17117,     0.17217,     0.17317,     0.17417,     0.17518,     0.17618,     0.17718,     0.17818,     0.17918,     0.18018,     0.18118,     0.18218,     0.18318,     0.18418,     0.18519,     0.18619,     0.18719,     0.18819,     0.18919,     0.19019,     0.19119,\n",
              "           0.19219,     0.19319,     0.19419,      0.1952,      0.1962,      0.1972,      0.1982,      0.1992,      0.2002,      0.2012,      0.2022,      0.2032,      0.2042,     0.20521,     0.20621,     0.20721,     0.20821,     0.20921,     0.21021,     0.21121,     0.21221,     0.21321,     0.21421,     0.21522,\n",
              "           0.21622,     0.21722,     0.21822,     0.21922,     0.22022,     0.22122,     0.22222,     0.22322,     0.22422,     0.22523,     0.22623,     0.22723,     0.22823,     0.22923,     0.23023,     0.23123,     0.23223,     0.23323,     0.23423,     0.23524,     0.23624,     0.23724,     0.23824,     0.23924,\n",
              "           0.24024,     0.24124,     0.24224,     0.24324,     0.24424,     0.24525,     0.24625,     0.24725,     0.24825,     0.24925,     0.25025,     0.25125,     0.25225,     0.25325,     0.25425,     0.25526,     0.25626,     0.25726,     0.25826,     0.25926,     0.26026,     0.26126,     0.26226,     0.26326,\n",
              "           0.26426,     0.26527,     0.26627,     0.26727,     0.26827,     0.26927,     0.27027,     0.27127,     0.27227,     0.27327,     0.27427,     0.27528,     0.27628,     0.27728,     0.27828,     0.27928,     0.28028,     0.28128,     0.28228,     0.28328,     0.28428,     0.28529,     0.28629,     0.28729,\n",
              "           0.28829,     0.28929,     0.29029,     0.29129,     0.29229,     0.29329,     0.29429,      0.2953,      0.2963,      0.2973,      0.2983,      0.2993,      0.3003,      0.3013,      0.3023,      0.3033,      0.3043,     0.30531,     0.30631,     0.30731,     0.30831,     0.30931,     0.31031,     0.31131,\n",
              "           0.31231,     0.31331,     0.31431,     0.31532,     0.31632,     0.31732,     0.31832,     0.31932,     0.32032,     0.32132,     0.32232,     0.32332,     0.32432,     0.32533,     0.32633,     0.32733,     0.32833,     0.32933,     0.33033,     0.33133,     0.33233,     0.33333,     0.33433,     0.33534,\n",
              "           0.33634,     0.33734,     0.33834,     0.33934,     0.34034,     0.34134,     0.34234,     0.34334,     0.34434,     0.34535,     0.34635,     0.34735,     0.34835,     0.34935,     0.35035,     0.35135,     0.35235,     0.35335,     0.35435,     0.35536,     0.35636,     0.35736,     0.35836,     0.35936,\n",
              "           0.36036,     0.36136,     0.36236,     0.36336,     0.36436,     0.36537,     0.36637,     0.36737,     0.36837,     0.36937,     0.37037,     0.37137,     0.37237,     0.37337,     0.37437,     0.37538,     0.37638,     0.37738,     0.37838,     0.37938,     0.38038,     0.38138,     0.38238,     0.38338,\n",
              "           0.38438,     0.38539,     0.38639,     0.38739,     0.38839,     0.38939,     0.39039,     0.39139,     0.39239,     0.39339,     0.39439,      0.3954,      0.3964,      0.3974,      0.3984,      0.3994,      0.4004,      0.4014,      0.4024,      0.4034,      0.4044,     0.40541,     0.40641,     0.40741,\n",
              "           0.40841,     0.40941,     0.41041,     0.41141,     0.41241,     0.41341,     0.41441,     0.41542,     0.41642,     0.41742,     0.41842,     0.41942,     0.42042,     0.42142,     0.42242,     0.42342,     0.42442,     0.42543,     0.42643,     0.42743,     0.42843,     0.42943,     0.43043,     0.43143,\n",
              "           0.43243,     0.43343,     0.43443,     0.43544,     0.43644,     0.43744,     0.43844,     0.43944,     0.44044,     0.44144,     0.44244,     0.44344,     0.44444,     0.44545,     0.44645,     0.44745,     0.44845,     0.44945,     0.45045,     0.45145,     0.45245,     0.45345,     0.45445,     0.45546,\n",
              "           0.45646,     0.45746,     0.45846,     0.45946,     0.46046,     0.46146,     0.46246,     0.46346,     0.46446,     0.46547,     0.46647,     0.46747,     0.46847,     0.46947,     0.47047,     0.47147,     0.47247,     0.47347,     0.47447,     0.47548,     0.47648,     0.47748,     0.47848,     0.47948,\n",
              "           0.48048,     0.48148,     0.48248,     0.48348,     0.48448,     0.48549,     0.48649,     0.48749,     0.48849,     0.48949,     0.49049,     0.49149,     0.49249,     0.49349,     0.49449,      0.4955,      0.4965,      0.4975,      0.4985,      0.4995,      0.5005,      0.5015,      0.5025,      0.5035,\n",
              "            0.5045,     0.50551,     0.50651,     0.50751,     0.50851,     0.50951,     0.51051,     0.51151,     0.51251,     0.51351,     0.51451,     0.51552,     0.51652,     0.51752,     0.51852,     0.51952,     0.52052,     0.52152,     0.52252,     0.52352,     0.52452,     0.52553,     0.52653,     0.52753,\n",
              "           0.52853,     0.52953,     0.53053,     0.53153,     0.53253,     0.53353,     0.53453,     0.53554,     0.53654,     0.53754,     0.53854,     0.53954,     0.54054,     0.54154,     0.54254,     0.54354,     0.54454,     0.54555,     0.54655,     0.54755,     0.54855,     0.54955,     0.55055,     0.55155,\n",
              "           0.55255,     0.55355,     0.55455,     0.55556,     0.55656,     0.55756,     0.55856,     0.55956,     0.56056,     0.56156,     0.56256,     0.56356,     0.56456,     0.56557,     0.56657,     0.56757,     0.56857,     0.56957,     0.57057,     0.57157,     0.57257,     0.57357,     0.57457,     0.57558,\n",
              "           0.57658,     0.57758,     0.57858,     0.57958,     0.58058,     0.58158,     0.58258,     0.58358,     0.58458,     0.58559,     0.58659,     0.58759,     0.58859,     0.58959,     0.59059,     0.59159,     0.59259,     0.59359,     0.59459,      0.5956,      0.5966,      0.5976,      0.5986,      0.5996,\n",
              "            0.6006,      0.6016,      0.6026,      0.6036,      0.6046,     0.60561,     0.60661,     0.60761,     0.60861,     0.60961,     0.61061,     0.61161,     0.61261,     0.61361,     0.61461,     0.61562,     0.61662,     0.61762,     0.61862,     0.61962,     0.62062,     0.62162,     0.62262,     0.62362,\n",
              "           0.62462,     0.62563,     0.62663,     0.62763,     0.62863,     0.62963,     0.63063,     0.63163,     0.63263,     0.63363,     0.63463,     0.63564,     0.63664,     0.63764,     0.63864,     0.63964,     0.64064,     0.64164,     0.64264,     0.64364,     0.64464,     0.64565,     0.64665,     0.64765,\n",
              "           0.64865,     0.64965,     0.65065,     0.65165,     0.65265,     0.65365,     0.65465,     0.65566,     0.65666,     0.65766,     0.65866,     0.65966,     0.66066,     0.66166,     0.66266,     0.66366,     0.66466,     0.66567,     0.66667,     0.66767,     0.66867,     0.66967,     0.67067,     0.67167,\n",
              "           0.67267,     0.67367,     0.67467,     0.67568,     0.67668,     0.67768,     0.67868,     0.67968,     0.68068,     0.68168,     0.68268,     0.68368,     0.68468,     0.68569,     0.68669,     0.68769,     0.68869,     0.68969,     0.69069,     0.69169,     0.69269,     0.69369,     0.69469,      0.6957,\n",
              "            0.6967,      0.6977,      0.6987,      0.6997,      0.7007,      0.7017,      0.7027,      0.7037,      0.7047,     0.70571,     0.70671,     0.70771,     0.70871,     0.70971,     0.71071,     0.71171,     0.71271,     0.71371,     0.71471,     0.71572,     0.71672,     0.71772,     0.71872,     0.71972,\n",
              "           0.72072,     0.72172,     0.72272,     0.72372,     0.72472,     0.72573,     0.72673,     0.72773,     0.72873,     0.72973,     0.73073,     0.73173,     0.73273,     0.73373,     0.73473,     0.73574,     0.73674,     0.73774,     0.73874,     0.73974,     0.74074,     0.74174,     0.74274,     0.74374,\n",
              "           0.74474,     0.74575,     0.74675,     0.74775,     0.74875,     0.74975,     0.75075,     0.75175,     0.75275,     0.75375,     0.75475,     0.75576,     0.75676,     0.75776,     0.75876,     0.75976,     0.76076,     0.76176,     0.76276,     0.76376,     0.76476,     0.76577,     0.76677,     0.76777,\n",
              "           0.76877,     0.76977,     0.77077,     0.77177,     0.77277,     0.77377,     0.77477,     0.77578,     0.77678,     0.77778,     0.77878,     0.77978,     0.78078,     0.78178,     0.78278,     0.78378,     0.78478,     0.78579,     0.78679,     0.78779,     0.78879,     0.78979,     0.79079,     0.79179,\n",
              "           0.79279,     0.79379,     0.79479,      0.7958,      0.7968,      0.7978,      0.7988,      0.7998,      0.8008,      0.8018,      0.8028,      0.8038,      0.8048,     0.80581,     0.80681,     0.80781,     0.80881,     0.80981,     0.81081,     0.81181,     0.81281,     0.81381,     0.81481,     0.81582,\n",
              "           0.81682,     0.81782,     0.81882,     0.81982,     0.82082,     0.82182,     0.82282,     0.82382,     0.82482,     0.82583,     0.82683,     0.82783,     0.82883,     0.82983,     0.83083,     0.83183,     0.83283,     0.83383,     0.83483,     0.83584,     0.83684,     0.83784,     0.83884,     0.83984,\n",
              "           0.84084,     0.84184,     0.84284,     0.84384,     0.84484,     0.84585,     0.84685,     0.84785,     0.84885,     0.84985,     0.85085,     0.85185,     0.85285,     0.85385,     0.85485,     0.85586,     0.85686,     0.85786,     0.85886,     0.85986,     0.86086,     0.86186,     0.86286,     0.86386,\n",
              "           0.86486,     0.86587,     0.86687,     0.86787,     0.86887,     0.86987,     0.87087,     0.87187,     0.87287,     0.87387,     0.87487,     0.87588,     0.87688,     0.87788,     0.87888,     0.87988,     0.88088,     0.88188,     0.88288,     0.88388,     0.88488,     0.88589,     0.88689,     0.88789,\n",
              "           0.88889,     0.88989,     0.89089,     0.89189,     0.89289,     0.89389,     0.89489,      0.8959,      0.8969,      0.8979,      0.8989,      0.8999,      0.9009,      0.9019,      0.9029,      0.9039,      0.9049,     0.90591,     0.90691,     0.90791,     0.90891,     0.90991,     0.91091,     0.91191,\n",
              "           0.91291,     0.91391,     0.91491,     0.91592,     0.91692,     0.91792,     0.91892,     0.91992,     0.92092,     0.92192,     0.92292,     0.92392,     0.92492,     0.92593,     0.92693,     0.92793,     0.92893,     0.92993,     0.93093,     0.93193,     0.93293,     0.93393,     0.93493,     0.93594,\n",
              "           0.93694,     0.93794,     0.93894,     0.93994,     0.94094,     0.94194,     0.94294,     0.94394,     0.94494,     0.94595,     0.94695,     0.94795,     0.94895,     0.94995,     0.95095,     0.95195,     0.95295,     0.95395,     0.95495,     0.95596,     0.95696,     0.95796,     0.95896,     0.95996,\n",
              "           0.96096,     0.96196,     0.96296,     0.96396,     0.96496,     0.96597,     0.96697,     0.96797,     0.96897,     0.96997,     0.97097,     0.97197,     0.97297,     0.97397,     0.97497,     0.97598,     0.97698,     0.97798,     0.97898,     0.97998,     0.98098,     0.98198,     0.98298,     0.98398,\n",
              "           0.98498,     0.98599,     0.98699,     0.98799,     0.98899,     0.98999,     0.99099,     0.99199,     0.99299,     0.99399,     0.99499,       0.996,       0.997,       0.998,       0.999,           1]), array([[          1,           1,           1, ...,     0.16856,     0.14615,           0],\n",
              "       [          1,           1,           1, ...,    0.001081,  0.00054051,           0],\n",
              "       [          1,           1,           1, ...,     0.20906,    0.051034,           0],\n",
              "       ...,\n",
              "       [          1,           1,           1, ...,    0.040681,     0.02034,           0],\n",
              "       [          1,           1,           1, ...,      0.1418,    0.064639,           0],\n",
              "       [          1,           1,           1, ...,    0.029955,    0.014977,           0]]), 'Recall', 'Precision'], [array([          0,    0.001001,    0.002002,    0.003003,    0.004004,    0.005005,    0.006006,    0.007007,    0.008008,    0.009009,     0.01001,    0.011011,    0.012012,    0.013013,    0.014014,    0.015015,    0.016016,    0.017017,    0.018018,    0.019019,     0.02002,    0.021021,    0.022022,    0.023023,\n",
              "          0.024024,    0.025025,    0.026026,    0.027027,    0.028028,    0.029029,     0.03003,    0.031031,    0.032032,    0.033033,    0.034034,    0.035035,    0.036036,    0.037037,    0.038038,    0.039039,     0.04004,    0.041041,    0.042042,    0.043043,    0.044044,    0.045045,    0.046046,    0.047047,\n",
              "          0.048048,    0.049049,     0.05005,    0.051051,    0.052052,    0.053053,    0.054054,    0.055055,    0.056056,    0.057057,    0.058058,    0.059059,     0.06006,    0.061061,    0.062062,    0.063063,    0.064064,    0.065065,    0.066066,    0.067067,    0.068068,    0.069069,     0.07007,    0.071071,\n",
              "          0.072072,    0.073073,    0.074074,    0.075075,    0.076076,    0.077077,    0.078078,    0.079079,     0.08008,    0.081081,    0.082082,    0.083083,    0.084084,    0.085085,    0.086086,    0.087087,    0.088088,    0.089089,     0.09009,    0.091091,    0.092092,    0.093093,    0.094094,    0.095095,\n",
              "          0.096096,    0.097097,    0.098098,    0.099099,      0.1001,      0.1011,      0.1021,      0.1031,      0.1041,     0.10511,     0.10611,     0.10711,     0.10811,     0.10911,     0.11011,     0.11111,     0.11211,     0.11311,     0.11411,     0.11512,     0.11612,     0.11712,     0.11812,     0.11912,\n",
              "           0.12012,     0.12112,     0.12212,     0.12312,     0.12412,     0.12513,     0.12613,     0.12713,     0.12813,     0.12913,     0.13013,     0.13113,     0.13213,     0.13313,     0.13413,     0.13514,     0.13614,     0.13714,     0.13814,     0.13914,     0.14014,     0.14114,     0.14214,     0.14314,\n",
              "           0.14414,     0.14515,     0.14615,     0.14715,     0.14815,     0.14915,     0.15015,     0.15115,     0.15215,     0.15315,     0.15415,     0.15516,     0.15616,     0.15716,     0.15816,     0.15916,     0.16016,     0.16116,     0.16216,     0.16316,     0.16416,     0.16517,     0.16617,     0.16717,\n",
              "           0.16817,     0.16917,     0.17017,     0.17117,     0.17217,     0.17317,     0.17417,     0.17518,     0.17618,     0.17718,     0.17818,     0.17918,     0.18018,     0.18118,     0.18218,     0.18318,     0.18418,     0.18519,     0.18619,     0.18719,     0.18819,     0.18919,     0.19019,     0.19119,\n",
              "           0.19219,     0.19319,     0.19419,      0.1952,      0.1962,      0.1972,      0.1982,      0.1992,      0.2002,      0.2012,      0.2022,      0.2032,      0.2042,     0.20521,     0.20621,     0.20721,     0.20821,     0.20921,     0.21021,     0.21121,     0.21221,     0.21321,     0.21421,     0.21522,\n",
              "           0.21622,     0.21722,     0.21822,     0.21922,     0.22022,     0.22122,     0.22222,     0.22322,     0.22422,     0.22523,     0.22623,     0.22723,     0.22823,     0.22923,     0.23023,     0.23123,     0.23223,     0.23323,     0.23423,     0.23524,     0.23624,     0.23724,     0.23824,     0.23924,\n",
              "           0.24024,     0.24124,     0.24224,     0.24324,     0.24424,     0.24525,     0.24625,     0.24725,     0.24825,     0.24925,     0.25025,     0.25125,     0.25225,     0.25325,     0.25425,     0.25526,     0.25626,     0.25726,     0.25826,     0.25926,     0.26026,     0.26126,     0.26226,     0.26326,\n",
              "           0.26426,     0.26527,     0.26627,     0.26727,     0.26827,     0.26927,     0.27027,     0.27127,     0.27227,     0.27327,     0.27427,     0.27528,     0.27628,     0.27728,     0.27828,     0.27928,     0.28028,     0.28128,     0.28228,     0.28328,     0.28428,     0.28529,     0.28629,     0.28729,\n",
              "           0.28829,     0.28929,     0.29029,     0.29129,     0.29229,     0.29329,     0.29429,      0.2953,      0.2963,      0.2973,      0.2983,      0.2993,      0.3003,      0.3013,      0.3023,      0.3033,      0.3043,     0.30531,     0.30631,     0.30731,     0.30831,     0.30931,     0.31031,     0.31131,\n",
              "           0.31231,     0.31331,     0.31431,     0.31532,     0.31632,     0.31732,     0.31832,     0.31932,     0.32032,     0.32132,     0.32232,     0.32332,     0.32432,     0.32533,     0.32633,     0.32733,     0.32833,     0.32933,     0.33033,     0.33133,     0.33233,     0.33333,     0.33433,     0.33534,\n",
              "           0.33634,     0.33734,     0.33834,     0.33934,     0.34034,     0.34134,     0.34234,     0.34334,     0.34434,     0.34535,     0.34635,     0.34735,     0.34835,     0.34935,     0.35035,     0.35135,     0.35235,     0.35335,     0.35435,     0.35536,     0.35636,     0.35736,     0.35836,     0.35936,\n",
              "           0.36036,     0.36136,     0.36236,     0.36336,     0.36436,     0.36537,     0.36637,     0.36737,     0.36837,     0.36937,     0.37037,     0.37137,     0.37237,     0.37337,     0.37437,     0.37538,     0.37638,     0.37738,     0.37838,     0.37938,     0.38038,     0.38138,     0.38238,     0.38338,\n",
              "           0.38438,     0.38539,     0.38639,     0.38739,     0.38839,     0.38939,     0.39039,     0.39139,     0.39239,     0.39339,     0.39439,      0.3954,      0.3964,      0.3974,      0.3984,      0.3994,      0.4004,      0.4014,      0.4024,      0.4034,      0.4044,     0.40541,     0.40641,     0.40741,\n",
              "           0.40841,     0.40941,     0.41041,     0.41141,     0.41241,     0.41341,     0.41441,     0.41542,     0.41642,     0.41742,     0.41842,     0.41942,     0.42042,     0.42142,     0.42242,     0.42342,     0.42442,     0.42543,     0.42643,     0.42743,     0.42843,     0.42943,     0.43043,     0.43143,\n",
              "           0.43243,     0.43343,     0.43443,     0.43544,     0.43644,     0.43744,     0.43844,     0.43944,     0.44044,     0.44144,     0.44244,     0.44344,     0.44444,     0.44545,     0.44645,     0.44745,     0.44845,     0.44945,     0.45045,     0.45145,     0.45245,     0.45345,     0.45445,     0.45546,\n",
              "           0.45646,     0.45746,     0.45846,     0.45946,     0.46046,     0.46146,     0.46246,     0.46346,     0.46446,     0.46547,     0.46647,     0.46747,     0.46847,     0.46947,     0.47047,     0.47147,     0.47247,     0.47347,     0.47447,     0.47548,     0.47648,     0.47748,     0.47848,     0.47948,\n",
              "           0.48048,     0.48148,     0.48248,     0.48348,     0.48448,     0.48549,     0.48649,     0.48749,     0.48849,     0.48949,     0.49049,     0.49149,     0.49249,     0.49349,     0.49449,      0.4955,      0.4965,      0.4975,      0.4985,      0.4995,      0.5005,      0.5015,      0.5025,      0.5035,\n",
              "            0.5045,     0.50551,     0.50651,     0.50751,     0.50851,     0.50951,     0.51051,     0.51151,     0.51251,     0.51351,     0.51451,     0.51552,     0.51652,     0.51752,     0.51852,     0.51952,     0.52052,     0.52152,     0.52252,     0.52352,     0.52452,     0.52553,     0.52653,     0.52753,\n",
              "           0.52853,     0.52953,     0.53053,     0.53153,     0.53253,     0.53353,     0.53453,     0.53554,     0.53654,     0.53754,     0.53854,     0.53954,     0.54054,     0.54154,     0.54254,     0.54354,     0.54454,     0.54555,     0.54655,     0.54755,     0.54855,     0.54955,     0.55055,     0.55155,\n",
              "           0.55255,     0.55355,     0.55455,     0.55556,     0.55656,     0.55756,     0.55856,     0.55956,     0.56056,     0.56156,     0.56256,     0.56356,     0.56456,     0.56557,     0.56657,     0.56757,     0.56857,     0.56957,     0.57057,     0.57157,     0.57257,     0.57357,     0.57457,     0.57558,\n",
              "           0.57658,     0.57758,     0.57858,     0.57958,     0.58058,     0.58158,     0.58258,     0.58358,     0.58458,     0.58559,     0.58659,     0.58759,     0.58859,     0.58959,     0.59059,     0.59159,     0.59259,     0.59359,     0.59459,      0.5956,      0.5966,      0.5976,      0.5986,      0.5996,\n",
              "            0.6006,      0.6016,      0.6026,      0.6036,      0.6046,     0.60561,     0.60661,     0.60761,     0.60861,     0.60961,     0.61061,     0.61161,     0.61261,     0.61361,     0.61461,     0.61562,     0.61662,     0.61762,     0.61862,     0.61962,     0.62062,     0.62162,     0.62262,     0.62362,\n",
              "           0.62462,     0.62563,     0.62663,     0.62763,     0.62863,     0.62963,     0.63063,     0.63163,     0.63263,     0.63363,     0.63463,     0.63564,     0.63664,     0.63764,     0.63864,     0.63964,     0.64064,     0.64164,     0.64264,     0.64364,     0.64464,     0.64565,     0.64665,     0.64765,\n",
              "           0.64865,     0.64965,     0.65065,     0.65165,     0.65265,     0.65365,     0.65465,     0.65566,     0.65666,     0.65766,     0.65866,     0.65966,     0.66066,     0.66166,     0.66266,     0.66366,     0.66466,     0.66567,     0.66667,     0.66767,     0.66867,     0.66967,     0.67067,     0.67167,\n",
              "           0.67267,     0.67367,     0.67467,     0.67568,     0.67668,     0.67768,     0.67868,     0.67968,     0.68068,     0.68168,     0.68268,     0.68368,     0.68468,     0.68569,     0.68669,     0.68769,     0.68869,     0.68969,     0.69069,     0.69169,     0.69269,     0.69369,     0.69469,      0.6957,\n",
              "            0.6967,      0.6977,      0.6987,      0.6997,      0.7007,      0.7017,      0.7027,      0.7037,      0.7047,     0.70571,     0.70671,     0.70771,     0.70871,     0.70971,     0.71071,     0.71171,     0.71271,     0.71371,     0.71471,     0.71572,     0.71672,     0.71772,     0.71872,     0.71972,\n",
              "           0.72072,     0.72172,     0.72272,     0.72372,     0.72472,     0.72573,     0.72673,     0.72773,     0.72873,     0.72973,     0.73073,     0.73173,     0.73273,     0.73373,     0.73473,     0.73574,     0.73674,     0.73774,     0.73874,     0.73974,     0.74074,     0.74174,     0.74274,     0.74374,\n",
              "           0.74474,     0.74575,     0.74675,     0.74775,     0.74875,     0.74975,     0.75075,     0.75175,     0.75275,     0.75375,     0.75475,     0.75576,     0.75676,     0.75776,     0.75876,     0.75976,     0.76076,     0.76176,     0.76276,     0.76376,     0.76476,     0.76577,     0.76677,     0.76777,\n",
              "           0.76877,     0.76977,     0.77077,     0.77177,     0.77277,     0.77377,     0.77477,     0.77578,     0.77678,     0.77778,     0.77878,     0.77978,     0.78078,     0.78178,     0.78278,     0.78378,     0.78478,     0.78579,     0.78679,     0.78779,     0.78879,     0.78979,     0.79079,     0.79179,\n",
              "           0.79279,     0.79379,     0.79479,      0.7958,      0.7968,      0.7978,      0.7988,      0.7998,      0.8008,      0.8018,      0.8028,      0.8038,      0.8048,     0.80581,     0.80681,     0.80781,     0.80881,     0.80981,     0.81081,     0.81181,     0.81281,     0.81381,     0.81481,     0.81582,\n",
              "           0.81682,     0.81782,     0.81882,     0.81982,     0.82082,     0.82182,     0.82282,     0.82382,     0.82482,     0.82583,     0.82683,     0.82783,     0.82883,     0.82983,     0.83083,     0.83183,     0.83283,     0.83383,     0.83483,     0.83584,     0.83684,     0.83784,     0.83884,     0.83984,\n",
              "           0.84084,     0.84184,     0.84284,     0.84384,     0.84484,     0.84585,     0.84685,     0.84785,     0.84885,     0.84985,     0.85085,     0.85185,     0.85285,     0.85385,     0.85485,     0.85586,     0.85686,     0.85786,     0.85886,     0.85986,     0.86086,     0.86186,     0.86286,     0.86386,\n",
              "           0.86486,     0.86587,     0.86687,     0.86787,     0.86887,     0.86987,     0.87087,     0.87187,     0.87287,     0.87387,     0.87487,     0.87588,     0.87688,     0.87788,     0.87888,     0.87988,     0.88088,     0.88188,     0.88288,     0.88388,     0.88488,     0.88589,     0.88689,     0.88789,\n",
              "           0.88889,     0.88989,     0.89089,     0.89189,     0.89289,     0.89389,     0.89489,      0.8959,      0.8969,      0.8979,      0.8989,      0.8999,      0.9009,      0.9019,      0.9029,      0.9039,      0.9049,     0.90591,     0.90691,     0.90791,     0.90891,     0.90991,     0.91091,     0.91191,\n",
              "           0.91291,     0.91391,     0.91491,     0.91592,     0.91692,     0.91792,     0.91892,     0.91992,     0.92092,     0.92192,     0.92292,     0.92392,     0.92492,     0.92593,     0.92693,     0.92793,     0.92893,     0.92993,     0.93093,     0.93193,     0.93293,     0.93393,     0.93493,     0.93594,\n",
              "           0.93694,     0.93794,     0.93894,     0.93994,     0.94094,     0.94194,     0.94294,     0.94394,     0.94494,     0.94595,     0.94695,     0.94795,     0.94895,     0.94995,     0.95095,     0.95195,     0.95295,     0.95395,     0.95495,     0.95596,     0.95696,     0.95796,     0.95896,     0.95996,\n",
              "           0.96096,     0.96196,     0.96296,     0.96396,     0.96496,     0.96597,     0.96697,     0.96797,     0.96897,     0.96997,     0.97097,     0.97197,     0.97297,     0.97397,     0.97497,     0.97598,     0.97698,     0.97798,     0.97898,     0.97998,     0.98098,     0.98198,     0.98298,     0.98398,\n",
              "           0.98498,     0.98599,     0.98699,     0.98799,     0.98899,     0.98999,     0.99099,     0.99199,     0.99299,     0.99399,     0.99499,       0.996,       0.997,       0.998,       0.999,           1]), array([[    0.10211,     0.10211,     0.17331, ...,           0,           0,           0],\n",
              "       [     0.1043,      0.1043,     0.19431, ...,           0,           0,           0],\n",
              "       [    0.09804,     0.09804,     0.11864, ...,           0,           0,           0],\n",
              "       ...,\n",
              "       [   0.080737,    0.080737,    0.099238, ...,           0,           0,           0],\n",
              "       [    0.11156,     0.11156,     0.13594, ...,           0,           0,           0],\n",
              "       [    0.11155,     0.11155,     0.20393, ...,           0,           0,           0]]), 'Confidence', 'F1'], [array([          0,    0.001001,    0.002002,    0.003003,    0.004004,    0.005005,    0.006006,    0.007007,    0.008008,    0.009009,     0.01001,    0.011011,    0.012012,    0.013013,    0.014014,    0.015015,    0.016016,    0.017017,    0.018018,    0.019019,     0.02002,    0.021021,    0.022022,    0.023023,\n",
              "          0.024024,    0.025025,    0.026026,    0.027027,    0.028028,    0.029029,     0.03003,    0.031031,    0.032032,    0.033033,    0.034034,    0.035035,    0.036036,    0.037037,    0.038038,    0.039039,     0.04004,    0.041041,    0.042042,    0.043043,    0.044044,    0.045045,    0.046046,    0.047047,\n",
              "          0.048048,    0.049049,     0.05005,    0.051051,    0.052052,    0.053053,    0.054054,    0.055055,    0.056056,    0.057057,    0.058058,    0.059059,     0.06006,    0.061061,    0.062062,    0.063063,    0.064064,    0.065065,    0.066066,    0.067067,    0.068068,    0.069069,     0.07007,    0.071071,\n",
              "          0.072072,    0.073073,    0.074074,    0.075075,    0.076076,    0.077077,    0.078078,    0.079079,     0.08008,    0.081081,    0.082082,    0.083083,    0.084084,    0.085085,    0.086086,    0.087087,    0.088088,    0.089089,     0.09009,    0.091091,    0.092092,    0.093093,    0.094094,    0.095095,\n",
              "          0.096096,    0.097097,    0.098098,    0.099099,      0.1001,      0.1011,      0.1021,      0.1031,      0.1041,     0.10511,     0.10611,     0.10711,     0.10811,     0.10911,     0.11011,     0.11111,     0.11211,     0.11311,     0.11411,     0.11512,     0.11612,     0.11712,     0.11812,     0.11912,\n",
              "           0.12012,     0.12112,     0.12212,     0.12312,     0.12412,     0.12513,     0.12613,     0.12713,     0.12813,     0.12913,     0.13013,     0.13113,     0.13213,     0.13313,     0.13413,     0.13514,     0.13614,     0.13714,     0.13814,     0.13914,     0.14014,     0.14114,     0.14214,     0.14314,\n",
              "           0.14414,     0.14515,     0.14615,     0.14715,     0.14815,     0.14915,     0.15015,     0.15115,     0.15215,     0.15315,     0.15415,     0.15516,     0.15616,     0.15716,     0.15816,     0.15916,     0.16016,     0.16116,     0.16216,     0.16316,     0.16416,     0.16517,     0.16617,     0.16717,\n",
              "           0.16817,     0.16917,     0.17017,     0.17117,     0.17217,     0.17317,     0.17417,     0.17518,     0.17618,     0.17718,     0.17818,     0.17918,     0.18018,     0.18118,     0.18218,     0.18318,     0.18418,     0.18519,     0.18619,     0.18719,     0.18819,     0.18919,     0.19019,     0.19119,\n",
              "           0.19219,     0.19319,     0.19419,      0.1952,      0.1962,      0.1972,      0.1982,      0.1992,      0.2002,      0.2012,      0.2022,      0.2032,      0.2042,     0.20521,     0.20621,     0.20721,     0.20821,     0.20921,     0.21021,     0.21121,     0.21221,     0.21321,     0.21421,     0.21522,\n",
              "           0.21622,     0.21722,     0.21822,     0.21922,     0.22022,     0.22122,     0.22222,     0.22322,     0.22422,     0.22523,     0.22623,     0.22723,     0.22823,     0.22923,     0.23023,     0.23123,     0.23223,     0.23323,     0.23423,     0.23524,     0.23624,     0.23724,     0.23824,     0.23924,\n",
              "           0.24024,     0.24124,     0.24224,     0.24324,     0.24424,     0.24525,     0.24625,     0.24725,     0.24825,     0.24925,     0.25025,     0.25125,     0.25225,     0.25325,     0.25425,     0.25526,     0.25626,     0.25726,     0.25826,     0.25926,     0.26026,     0.26126,     0.26226,     0.26326,\n",
              "           0.26426,     0.26527,     0.26627,     0.26727,     0.26827,     0.26927,     0.27027,     0.27127,     0.27227,     0.27327,     0.27427,     0.27528,     0.27628,     0.27728,     0.27828,     0.27928,     0.28028,     0.28128,     0.28228,     0.28328,     0.28428,     0.28529,     0.28629,     0.28729,\n",
              "           0.28829,     0.28929,     0.29029,     0.29129,     0.29229,     0.29329,     0.29429,      0.2953,      0.2963,      0.2973,      0.2983,      0.2993,      0.3003,      0.3013,      0.3023,      0.3033,      0.3043,     0.30531,     0.30631,     0.30731,     0.30831,     0.30931,     0.31031,     0.31131,\n",
              "           0.31231,     0.31331,     0.31431,     0.31532,     0.31632,     0.31732,     0.31832,     0.31932,     0.32032,     0.32132,     0.32232,     0.32332,     0.32432,     0.32533,     0.32633,     0.32733,     0.32833,     0.32933,     0.33033,     0.33133,     0.33233,     0.33333,     0.33433,     0.33534,\n",
              "           0.33634,     0.33734,     0.33834,     0.33934,     0.34034,     0.34134,     0.34234,     0.34334,     0.34434,     0.34535,     0.34635,     0.34735,     0.34835,     0.34935,     0.35035,     0.35135,     0.35235,     0.35335,     0.35435,     0.35536,     0.35636,     0.35736,     0.35836,     0.35936,\n",
              "           0.36036,     0.36136,     0.36236,     0.36336,     0.36436,     0.36537,     0.36637,     0.36737,     0.36837,     0.36937,     0.37037,     0.37137,     0.37237,     0.37337,     0.37437,     0.37538,     0.37638,     0.37738,     0.37838,     0.37938,     0.38038,     0.38138,     0.38238,     0.38338,\n",
              "           0.38438,     0.38539,     0.38639,     0.38739,     0.38839,     0.38939,     0.39039,     0.39139,     0.39239,     0.39339,     0.39439,      0.3954,      0.3964,      0.3974,      0.3984,      0.3994,      0.4004,      0.4014,      0.4024,      0.4034,      0.4044,     0.40541,     0.40641,     0.40741,\n",
              "           0.40841,     0.40941,     0.41041,     0.41141,     0.41241,     0.41341,     0.41441,     0.41542,     0.41642,     0.41742,     0.41842,     0.41942,     0.42042,     0.42142,     0.42242,     0.42342,     0.42442,     0.42543,     0.42643,     0.42743,     0.42843,     0.42943,     0.43043,     0.43143,\n",
              "           0.43243,     0.43343,     0.43443,     0.43544,     0.43644,     0.43744,     0.43844,     0.43944,     0.44044,     0.44144,     0.44244,     0.44344,     0.44444,     0.44545,     0.44645,     0.44745,     0.44845,     0.44945,     0.45045,     0.45145,     0.45245,     0.45345,     0.45445,     0.45546,\n",
              "           0.45646,     0.45746,     0.45846,     0.45946,     0.46046,     0.46146,     0.46246,     0.46346,     0.46446,     0.46547,     0.46647,     0.46747,     0.46847,     0.46947,     0.47047,     0.47147,     0.47247,     0.47347,     0.47447,     0.47548,     0.47648,     0.47748,     0.47848,     0.47948,\n",
              "           0.48048,     0.48148,     0.48248,     0.48348,     0.48448,     0.48549,     0.48649,     0.48749,     0.48849,     0.48949,     0.49049,     0.49149,     0.49249,     0.49349,     0.49449,      0.4955,      0.4965,      0.4975,      0.4985,      0.4995,      0.5005,      0.5015,      0.5025,      0.5035,\n",
              "            0.5045,     0.50551,     0.50651,     0.50751,     0.50851,     0.50951,     0.51051,     0.51151,     0.51251,     0.51351,     0.51451,     0.51552,     0.51652,     0.51752,     0.51852,     0.51952,     0.52052,     0.52152,     0.52252,     0.52352,     0.52452,     0.52553,     0.52653,     0.52753,\n",
              "           0.52853,     0.52953,     0.53053,     0.53153,     0.53253,     0.53353,     0.53453,     0.53554,     0.53654,     0.53754,     0.53854,     0.53954,     0.54054,     0.54154,     0.54254,     0.54354,     0.54454,     0.54555,     0.54655,     0.54755,     0.54855,     0.54955,     0.55055,     0.55155,\n",
              "           0.55255,     0.55355,     0.55455,     0.55556,     0.55656,     0.55756,     0.55856,     0.55956,     0.56056,     0.56156,     0.56256,     0.56356,     0.56456,     0.56557,     0.56657,     0.56757,     0.56857,     0.56957,     0.57057,     0.57157,     0.57257,     0.57357,     0.57457,     0.57558,\n",
              "           0.57658,     0.57758,     0.57858,     0.57958,     0.58058,     0.58158,     0.58258,     0.58358,     0.58458,     0.58559,     0.58659,     0.58759,     0.58859,     0.58959,     0.59059,     0.59159,     0.59259,     0.59359,     0.59459,      0.5956,      0.5966,      0.5976,      0.5986,      0.5996,\n",
              "            0.6006,      0.6016,      0.6026,      0.6036,      0.6046,     0.60561,     0.60661,     0.60761,     0.60861,     0.60961,     0.61061,     0.61161,     0.61261,     0.61361,     0.61461,     0.61562,     0.61662,     0.61762,     0.61862,     0.61962,     0.62062,     0.62162,     0.62262,     0.62362,\n",
              "           0.62462,     0.62563,     0.62663,     0.62763,     0.62863,     0.62963,     0.63063,     0.63163,     0.63263,     0.63363,     0.63463,     0.63564,     0.63664,     0.63764,     0.63864,     0.63964,     0.64064,     0.64164,     0.64264,     0.64364,     0.64464,     0.64565,     0.64665,     0.64765,\n",
              "           0.64865,     0.64965,     0.65065,     0.65165,     0.65265,     0.65365,     0.65465,     0.65566,     0.65666,     0.65766,     0.65866,     0.65966,     0.66066,     0.66166,     0.66266,     0.66366,     0.66466,     0.66567,     0.66667,     0.66767,     0.66867,     0.66967,     0.67067,     0.67167,\n",
              "           0.67267,     0.67367,     0.67467,     0.67568,     0.67668,     0.67768,     0.67868,     0.67968,     0.68068,     0.68168,     0.68268,     0.68368,     0.68468,     0.68569,     0.68669,     0.68769,     0.68869,     0.68969,     0.69069,     0.69169,     0.69269,     0.69369,     0.69469,      0.6957,\n",
              "            0.6967,      0.6977,      0.6987,      0.6997,      0.7007,      0.7017,      0.7027,      0.7037,      0.7047,     0.70571,     0.70671,     0.70771,     0.70871,     0.70971,     0.71071,     0.71171,     0.71271,     0.71371,     0.71471,     0.71572,     0.71672,     0.71772,     0.71872,     0.71972,\n",
              "           0.72072,     0.72172,     0.72272,     0.72372,     0.72472,     0.72573,     0.72673,     0.72773,     0.72873,     0.72973,     0.73073,     0.73173,     0.73273,     0.73373,     0.73473,     0.73574,     0.73674,     0.73774,     0.73874,     0.73974,     0.74074,     0.74174,     0.74274,     0.74374,\n",
              "           0.74474,     0.74575,     0.74675,     0.74775,     0.74875,     0.74975,     0.75075,     0.75175,     0.75275,     0.75375,     0.75475,     0.75576,     0.75676,     0.75776,     0.75876,     0.75976,     0.76076,     0.76176,     0.76276,     0.76376,     0.76476,     0.76577,     0.76677,     0.76777,\n",
              "           0.76877,     0.76977,     0.77077,     0.77177,     0.77277,     0.77377,     0.77477,     0.77578,     0.77678,     0.77778,     0.77878,     0.77978,     0.78078,     0.78178,     0.78278,     0.78378,     0.78478,     0.78579,     0.78679,     0.78779,     0.78879,     0.78979,     0.79079,     0.79179,\n",
              "           0.79279,     0.79379,     0.79479,      0.7958,      0.7968,      0.7978,      0.7988,      0.7998,      0.8008,      0.8018,      0.8028,      0.8038,      0.8048,     0.80581,     0.80681,     0.80781,     0.80881,     0.80981,     0.81081,     0.81181,     0.81281,     0.81381,     0.81481,     0.81582,\n",
              "           0.81682,     0.81782,     0.81882,     0.81982,     0.82082,     0.82182,     0.82282,     0.82382,     0.82482,     0.82583,     0.82683,     0.82783,     0.82883,     0.82983,     0.83083,     0.83183,     0.83283,     0.83383,     0.83483,     0.83584,     0.83684,     0.83784,     0.83884,     0.83984,\n",
              "           0.84084,     0.84184,     0.84284,     0.84384,     0.84484,     0.84585,     0.84685,     0.84785,     0.84885,     0.84985,     0.85085,     0.85185,     0.85285,     0.85385,     0.85485,     0.85586,     0.85686,     0.85786,     0.85886,     0.85986,     0.86086,     0.86186,     0.86286,     0.86386,\n",
              "           0.86486,     0.86587,     0.86687,     0.86787,     0.86887,     0.86987,     0.87087,     0.87187,     0.87287,     0.87387,     0.87487,     0.87588,     0.87688,     0.87788,     0.87888,     0.87988,     0.88088,     0.88188,     0.88288,     0.88388,     0.88488,     0.88589,     0.88689,     0.88789,\n",
              "           0.88889,     0.88989,     0.89089,     0.89189,     0.89289,     0.89389,     0.89489,      0.8959,      0.8969,      0.8979,      0.8989,      0.8999,      0.9009,      0.9019,      0.9029,      0.9039,      0.9049,     0.90591,     0.90691,     0.90791,     0.90891,     0.90991,     0.91091,     0.91191,\n",
              "           0.91291,     0.91391,     0.91491,     0.91592,     0.91692,     0.91792,     0.91892,     0.91992,     0.92092,     0.92192,     0.92292,     0.92392,     0.92492,     0.92593,     0.92693,     0.92793,     0.92893,     0.92993,     0.93093,     0.93193,     0.93293,     0.93393,     0.93493,     0.93594,\n",
              "           0.93694,     0.93794,     0.93894,     0.93994,     0.94094,     0.94194,     0.94294,     0.94394,     0.94494,     0.94595,     0.94695,     0.94795,     0.94895,     0.94995,     0.95095,     0.95195,     0.95295,     0.95395,     0.95495,     0.95596,     0.95696,     0.95796,     0.95896,     0.95996,\n",
              "           0.96096,     0.96196,     0.96296,     0.96396,     0.96496,     0.96597,     0.96697,     0.96797,     0.96897,     0.96997,     0.97097,     0.97197,     0.97297,     0.97397,     0.97497,     0.97598,     0.97698,     0.97798,     0.97898,     0.97998,     0.98098,     0.98198,     0.98298,     0.98398,\n",
              "           0.98498,     0.98599,     0.98699,     0.98799,     0.98899,     0.98999,     0.99099,     0.99199,     0.99299,     0.99399,     0.99499,       0.996,       0.997,       0.998,       0.999,           1]), array([[   0.053803,    0.053803,    0.094874, ...,           1,           1,           1],\n",
              "       [   0.055368,    0.055368,     0.10904, ...,           1,           1,           1],\n",
              "       [    0.05155,     0.05155,    0.063066, ...,           1,           1,           1],\n",
              "       ...,\n",
              "       [    0.04207,     0.04207,    0.052215, ...,           1,           1,           1],\n",
              "       [   0.059077,    0.059077,    0.072939, ...,           1,           1,           1],\n",
              "       [   0.059082,    0.059082,     0.11362, ...,           1,           1,           1]]), 'Confidence', 'Precision'], [array([          0,    0.001001,    0.002002,    0.003003,    0.004004,    0.005005,    0.006006,    0.007007,    0.008008,    0.009009,     0.01001,    0.011011,    0.012012,    0.013013,    0.014014,    0.015015,    0.016016,    0.017017,    0.018018,    0.019019,     0.02002,    0.021021,    0.022022,    0.023023,\n",
              "          0.024024,    0.025025,    0.026026,    0.027027,    0.028028,    0.029029,     0.03003,    0.031031,    0.032032,    0.033033,    0.034034,    0.035035,    0.036036,    0.037037,    0.038038,    0.039039,     0.04004,    0.041041,    0.042042,    0.043043,    0.044044,    0.045045,    0.046046,    0.047047,\n",
              "          0.048048,    0.049049,     0.05005,    0.051051,    0.052052,    0.053053,    0.054054,    0.055055,    0.056056,    0.057057,    0.058058,    0.059059,     0.06006,    0.061061,    0.062062,    0.063063,    0.064064,    0.065065,    0.066066,    0.067067,    0.068068,    0.069069,     0.07007,    0.071071,\n",
              "          0.072072,    0.073073,    0.074074,    0.075075,    0.076076,    0.077077,    0.078078,    0.079079,     0.08008,    0.081081,    0.082082,    0.083083,    0.084084,    0.085085,    0.086086,    0.087087,    0.088088,    0.089089,     0.09009,    0.091091,    0.092092,    0.093093,    0.094094,    0.095095,\n",
              "          0.096096,    0.097097,    0.098098,    0.099099,      0.1001,      0.1011,      0.1021,      0.1031,      0.1041,     0.10511,     0.10611,     0.10711,     0.10811,     0.10911,     0.11011,     0.11111,     0.11211,     0.11311,     0.11411,     0.11512,     0.11612,     0.11712,     0.11812,     0.11912,\n",
              "           0.12012,     0.12112,     0.12212,     0.12312,     0.12412,     0.12513,     0.12613,     0.12713,     0.12813,     0.12913,     0.13013,     0.13113,     0.13213,     0.13313,     0.13413,     0.13514,     0.13614,     0.13714,     0.13814,     0.13914,     0.14014,     0.14114,     0.14214,     0.14314,\n",
              "           0.14414,     0.14515,     0.14615,     0.14715,     0.14815,     0.14915,     0.15015,     0.15115,     0.15215,     0.15315,     0.15415,     0.15516,     0.15616,     0.15716,     0.15816,     0.15916,     0.16016,     0.16116,     0.16216,     0.16316,     0.16416,     0.16517,     0.16617,     0.16717,\n",
              "           0.16817,     0.16917,     0.17017,     0.17117,     0.17217,     0.17317,     0.17417,     0.17518,     0.17618,     0.17718,     0.17818,     0.17918,     0.18018,     0.18118,     0.18218,     0.18318,     0.18418,     0.18519,     0.18619,     0.18719,     0.18819,     0.18919,     0.19019,     0.19119,\n",
              "           0.19219,     0.19319,     0.19419,      0.1952,      0.1962,      0.1972,      0.1982,      0.1992,      0.2002,      0.2012,      0.2022,      0.2032,      0.2042,     0.20521,     0.20621,     0.20721,     0.20821,     0.20921,     0.21021,     0.21121,     0.21221,     0.21321,     0.21421,     0.21522,\n",
              "           0.21622,     0.21722,     0.21822,     0.21922,     0.22022,     0.22122,     0.22222,     0.22322,     0.22422,     0.22523,     0.22623,     0.22723,     0.22823,     0.22923,     0.23023,     0.23123,     0.23223,     0.23323,     0.23423,     0.23524,     0.23624,     0.23724,     0.23824,     0.23924,\n",
              "           0.24024,     0.24124,     0.24224,     0.24324,     0.24424,     0.24525,     0.24625,     0.24725,     0.24825,     0.24925,     0.25025,     0.25125,     0.25225,     0.25325,     0.25425,     0.25526,     0.25626,     0.25726,     0.25826,     0.25926,     0.26026,     0.26126,     0.26226,     0.26326,\n",
              "           0.26426,     0.26527,     0.26627,     0.26727,     0.26827,     0.26927,     0.27027,     0.27127,     0.27227,     0.27327,     0.27427,     0.27528,     0.27628,     0.27728,     0.27828,     0.27928,     0.28028,     0.28128,     0.28228,     0.28328,     0.28428,     0.28529,     0.28629,     0.28729,\n",
              "           0.28829,     0.28929,     0.29029,     0.29129,     0.29229,     0.29329,     0.29429,      0.2953,      0.2963,      0.2973,      0.2983,      0.2993,      0.3003,      0.3013,      0.3023,      0.3033,      0.3043,     0.30531,     0.30631,     0.30731,     0.30831,     0.30931,     0.31031,     0.31131,\n",
              "           0.31231,     0.31331,     0.31431,     0.31532,     0.31632,     0.31732,     0.31832,     0.31932,     0.32032,     0.32132,     0.32232,     0.32332,     0.32432,     0.32533,     0.32633,     0.32733,     0.32833,     0.32933,     0.33033,     0.33133,     0.33233,     0.33333,     0.33433,     0.33534,\n",
              "           0.33634,     0.33734,     0.33834,     0.33934,     0.34034,     0.34134,     0.34234,     0.34334,     0.34434,     0.34535,     0.34635,     0.34735,     0.34835,     0.34935,     0.35035,     0.35135,     0.35235,     0.35335,     0.35435,     0.35536,     0.35636,     0.35736,     0.35836,     0.35936,\n",
              "           0.36036,     0.36136,     0.36236,     0.36336,     0.36436,     0.36537,     0.36637,     0.36737,     0.36837,     0.36937,     0.37037,     0.37137,     0.37237,     0.37337,     0.37437,     0.37538,     0.37638,     0.37738,     0.37838,     0.37938,     0.38038,     0.38138,     0.38238,     0.38338,\n",
              "           0.38438,     0.38539,     0.38639,     0.38739,     0.38839,     0.38939,     0.39039,     0.39139,     0.39239,     0.39339,     0.39439,      0.3954,      0.3964,      0.3974,      0.3984,      0.3994,      0.4004,      0.4014,      0.4024,      0.4034,      0.4044,     0.40541,     0.40641,     0.40741,\n",
              "           0.40841,     0.40941,     0.41041,     0.41141,     0.41241,     0.41341,     0.41441,     0.41542,     0.41642,     0.41742,     0.41842,     0.41942,     0.42042,     0.42142,     0.42242,     0.42342,     0.42442,     0.42543,     0.42643,     0.42743,     0.42843,     0.42943,     0.43043,     0.43143,\n",
              "           0.43243,     0.43343,     0.43443,     0.43544,     0.43644,     0.43744,     0.43844,     0.43944,     0.44044,     0.44144,     0.44244,     0.44344,     0.44444,     0.44545,     0.44645,     0.44745,     0.44845,     0.44945,     0.45045,     0.45145,     0.45245,     0.45345,     0.45445,     0.45546,\n",
              "           0.45646,     0.45746,     0.45846,     0.45946,     0.46046,     0.46146,     0.46246,     0.46346,     0.46446,     0.46547,     0.46647,     0.46747,     0.46847,     0.46947,     0.47047,     0.47147,     0.47247,     0.47347,     0.47447,     0.47548,     0.47648,     0.47748,     0.47848,     0.47948,\n",
              "           0.48048,     0.48148,     0.48248,     0.48348,     0.48448,     0.48549,     0.48649,     0.48749,     0.48849,     0.48949,     0.49049,     0.49149,     0.49249,     0.49349,     0.49449,      0.4955,      0.4965,      0.4975,      0.4985,      0.4995,      0.5005,      0.5015,      0.5025,      0.5035,\n",
              "            0.5045,     0.50551,     0.50651,     0.50751,     0.50851,     0.50951,     0.51051,     0.51151,     0.51251,     0.51351,     0.51451,     0.51552,     0.51652,     0.51752,     0.51852,     0.51952,     0.52052,     0.52152,     0.52252,     0.52352,     0.52452,     0.52553,     0.52653,     0.52753,\n",
              "           0.52853,     0.52953,     0.53053,     0.53153,     0.53253,     0.53353,     0.53453,     0.53554,     0.53654,     0.53754,     0.53854,     0.53954,     0.54054,     0.54154,     0.54254,     0.54354,     0.54454,     0.54555,     0.54655,     0.54755,     0.54855,     0.54955,     0.55055,     0.55155,\n",
              "           0.55255,     0.55355,     0.55455,     0.55556,     0.55656,     0.55756,     0.55856,     0.55956,     0.56056,     0.56156,     0.56256,     0.56356,     0.56456,     0.56557,     0.56657,     0.56757,     0.56857,     0.56957,     0.57057,     0.57157,     0.57257,     0.57357,     0.57457,     0.57558,\n",
              "           0.57658,     0.57758,     0.57858,     0.57958,     0.58058,     0.58158,     0.58258,     0.58358,     0.58458,     0.58559,     0.58659,     0.58759,     0.58859,     0.58959,     0.59059,     0.59159,     0.59259,     0.59359,     0.59459,      0.5956,      0.5966,      0.5976,      0.5986,      0.5996,\n",
              "            0.6006,      0.6016,      0.6026,      0.6036,      0.6046,     0.60561,     0.60661,     0.60761,     0.60861,     0.60961,     0.61061,     0.61161,     0.61261,     0.61361,     0.61461,     0.61562,     0.61662,     0.61762,     0.61862,     0.61962,     0.62062,     0.62162,     0.62262,     0.62362,\n",
              "           0.62462,     0.62563,     0.62663,     0.62763,     0.62863,     0.62963,     0.63063,     0.63163,     0.63263,     0.63363,     0.63463,     0.63564,     0.63664,     0.63764,     0.63864,     0.63964,     0.64064,     0.64164,     0.64264,     0.64364,     0.64464,     0.64565,     0.64665,     0.64765,\n",
              "           0.64865,     0.64965,     0.65065,     0.65165,     0.65265,     0.65365,     0.65465,     0.65566,     0.65666,     0.65766,     0.65866,     0.65966,     0.66066,     0.66166,     0.66266,     0.66366,     0.66466,     0.66567,     0.66667,     0.66767,     0.66867,     0.66967,     0.67067,     0.67167,\n",
              "           0.67267,     0.67367,     0.67467,     0.67568,     0.67668,     0.67768,     0.67868,     0.67968,     0.68068,     0.68168,     0.68268,     0.68368,     0.68468,     0.68569,     0.68669,     0.68769,     0.68869,     0.68969,     0.69069,     0.69169,     0.69269,     0.69369,     0.69469,      0.6957,\n",
              "            0.6967,      0.6977,      0.6987,      0.6997,      0.7007,      0.7017,      0.7027,      0.7037,      0.7047,     0.70571,     0.70671,     0.70771,     0.70871,     0.70971,     0.71071,     0.71171,     0.71271,     0.71371,     0.71471,     0.71572,     0.71672,     0.71772,     0.71872,     0.71972,\n",
              "           0.72072,     0.72172,     0.72272,     0.72372,     0.72472,     0.72573,     0.72673,     0.72773,     0.72873,     0.72973,     0.73073,     0.73173,     0.73273,     0.73373,     0.73473,     0.73574,     0.73674,     0.73774,     0.73874,     0.73974,     0.74074,     0.74174,     0.74274,     0.74374,\n",
              "           0.74474,     0.74575,     0.74675,     0.74775,     0.74875,     0.74975,     0.75075,     0.75175,     0.75275,     0.75375,     0.75475,     0.75576,     0.75676,     0.75776,     0.75876,     0.75976,     0.76076,     0.76176,     0.76276,     0.76376,     0.76476,     0.76577,     0.76677,     0.76777,\n",
              "           0.76877,     0.76977,     0.77077,     0.77177,     0.77277,     0.77377,     0.77477,     0.77578,     0.77678,     0.77778,     0.77878,     0.77978,     0.78078,     0.78178,     0.78278,     0.78378,     0.78478,     0.78579,     0.78679,     0.78779,     0.78879,     0.78979,     0.79079,     0.79179,\n",
              "           0.79279,     0.79379,     0.79479,      0.7958,      0.7968,      0.7978,      0.7988,      0.7998,      0.8008,      0.8018,      0.8028,      0.8038,      0.8048,     0.80581,     0.80681,     0.80781,     0.80881,     0.80981,     0.81081,     0.81181,     0.81281,     0.81381,     0.81481,     0.81582,\n",
              "           0.81682,     0.81782,     0.81882,     0.81982,     0.82082,     0.82182,     0.82282,     0.82382,     0.82482,     0.82583,     0.82683,     0.82783,     0.82883,     0.82983,     0.83083,     0.83183,     0.83283,     0.83383,     0.83483,     0.83584,     0.83684,     0.83784,     0.83884,     0.83984,\n",
              "           0.84084,     0.84184,     0.84284,     0.84384,     0.84484,     0.84585,     0.84685,     0.84785,     0.84885,     0.84985,     0.85085,     0.85185,     0.85285,     0.85385,     0.85485,     0.85586,     0.85686,     0.85786,     0.85886,     0.85986,     0.86086,     0.86186,     0.86286,     0.86386,\n",
              "           0.86486,     0.86587,     0.86687,     0.86787,     0.86887,     0.86987,     0.87087,     0.87187,     0.87287,     0.87387,     0.87487,     0.87588,     0.87688,     0.87788,     0.87888,     0.87988,     0.88088,     0.88188,     0.88288,     0.88388,     0.88488,     0.88589,     0.88689,     0.88789,\n",
              "           0.88889,     0.88989,     0.89089,     0.89189,     0.89289,     0.89389,     0.89489,      0.8959,      0.8969,      0.8979,      0.8989,      0.8999,      0.9009,      0.9019,      0.9029,      0.9039,      0.9049,     0.90591,     0.90691,     0.90791,     0.90891,     0.90991,     0.91091,     0.91191,\n",
              "           0.91291,     0.91391,     0.91491,     0.91592,     0.91692,     0.91792,     0.91892,     0.91992,     0.92092,     0.92192,     0.92292,     0.92392,     0.92492,     0.92593,     0.92693,     0.92793,     0.92893,     0.92993,     0.93093,     0.93193,     0.93293,     0.93393,     0.93493,     0.93594,\n",
              "           0.93694,     0.93794,     0.93894,     0.93994,     0.94094,     0.94194,     0.94294,     0.94394,     0.94494,     0.94595,     0.94695,     0.94795,     0.94895,     0.94995,     0.95095,     0.95195,     0.95295,     0.95395,     0.95495,     0.95596,     0.95696,     0.95796,     0.95896,     0.95996,\n",
              "           0.96096,     0.96196,     0.96296,     0.96396,     0.96496,     0.96597,     0.96697,     0.96797,     0.96897,     0.96997,     0.97097,     0.97197,     0.97297,     0.97397,     0.97497,     0.97598,     0.97698,     0.97798,     0.97898,     0.97998,     0.98098,     0.98198,     0.98298,     0.98398,\n",
              "           0.98498,     0.98599,     0.98699,     0.98799,     0.98899,     0.98999,     0.99099,     0.99199,     0.99299,     0.99399,     0.99499,       0.996,       0.997,       0.998,       0.999,           1]), array([[          1,           1,           1, ...,           0,           0,           0],\n",
              "       [    0.89746,     0.89746,     0.89137, ...,           0,           0,           0],\n",
              "       [    0.99899,     0.99899,     0.99899, ...,           0,           0,           0],\n",
              "       ...,\n",
              "       [    0.99793,     0.99793,     0.99793, ...,           0,           0,           0],\n",
              "       [          1,           1,     0.99808, ...,           0,           0,           0],\n",
              "       [    0.99605,     0.99605,     0.99408, ...,           0,           0,           0]]), 'Confidence', 'Recall']]\n",
              "fitness: np.float64(0.627271443007879)\n",
              "keys: ['metrics/precision(B)', 'metrics/recall(B)', 'metrics/mAP50(B)', 'metrics/mAP50-95(B)']\n",
              "maps: array([    0.72383,     0.42712,     0.67546,     0.65913,     0.60341,     0.65018,     0.65582,     0.66513,     0.64471,     0.56793])\n",
              "names: {0: '0', 1: '1', 2: '2', 3: '3', 4: '4', 5: '5', 6: '6', 7: '7', 8: '8', 9: '9'}\n",
              "nt_per_class: array([ 996,  985,  989, 1010, 1034, 1026,  941,  966, 1040, 1013])\n",
              "nt_per_image: array([946, 928, 943, 953, 983, 980, 900, 916, 988, 956])\n",
              "results_dict: {'metrics/precision(B)': 0.8798001147215766, 'metrics/recall(B)': 0.8108451153285616, 'metrics/mAP50(B)': 0.9210047206917308, 'metrics/mAP50-95(B)': 0.627271443007879, 'fitness': 0.627271443007879}\n",
              "save_dir: PosixPath('/content/runs/train/mnistdd_yolo8n')\n",
              "speed: {'preprocess': 0.012434515400036617, 'inference': 0.2727853368000524, 'loss': 0.0013786371999231052, 'postprocess': 1.2114250536002147}\n",
              "stats: {'tp': [], 'conf': [], 'pred_cls': [], 'target_cls': [], 'target_img': []}\n",
              "task: 'detect'"
            ]
          },
          "metadata": {},
          "execution_count": 16
        }
      ]
    },
    {
      "cell_type": "code",
      "source": [
        "# TODO: save the model weights (make sure to download/save them, Colab resets every session)\n",
        "best_subset_model_path = '/content/runs/train/mnistdd_yolo8n/weights/best.pt'\n",
        "print(f\"Best subset model weights saved to: {best_subset_model_path}\")\n"
      ],
      "metadata": {
        "id": "cLB-EFQDk4OB",
        "colab": {
          "base_uri": "https://localhost:8080/"
        },
        "outputId": "3233fc29-fc57-4336-975f-36c6f674724f"
      },
      "execution_count": 19,
      "outputs": [
        {
          "output_type": "stream",
          "name": "stdout",
          "text": [
            "Best subset model weights saved to: /content/runs/train/mnistdd_yolo8n/weights/best.pt\n"
          ]
        }
      ]
    },
    {
      "cell_type": "markdown",
      "source": [
        "### Compute IoU for the validation set"
      ],
      "metadata": {
        "id": "iEUGfw_clK3h"
      }
    },
    {
      "cell_type": "code",
      "source": [
        "# TODO: IoU code\n",
        "# Load the best model weights\n",
        "# The path to the best weights is usually in runs/train/your_experiment_name/weights/best.pt\n",
        "# Assuming the experiment name was 'mnistdd_yolo8n' from the previous training cell\n",
        "best_model_path = best_subset_model_path\n",
        "model_eval = YOLO(best_model_path)\n",
        "\n",
        "print(f\"Loaded model from: {best_model_path}\")\n",
        "\n",
        "# Evaluate the model on the validation dataset to get standard metrics\n",
        "results = model_eval.val(data=yaml_path_subset, imgsz=64) # Use the subset validation data\n",
        "\n",
        "print(\"\\nValidation Results (from model.val()):\")\n",
        "print(f\"mAP@0.50: {results.box.map50:.4f}\")\n",
        "print(f\"mAP@0.50-0.95: {results.box.map:.4f}\")\n",
        "\n",
        "\n",
        "# --- Manual calculation of Average IoU ---\n",
        "# This requires iterating through validation images, making predictions,\n",
        "# and calculating IoU for each predicted box against its corresponding ground truth box.\n",
        "\n",
        "from ultralytics.utils.metrics import bbox_iou\n",
        "import torch\n",
        "\n",
        "print(\"\\nCalculating Average IoU manually for the validation set...\")\n",
        "\n",
        "total_iou = 0\n",
        "num_iou_calculations = 0\n",
        "iou_values = [] # To store all calculated IoU values\n",
        "\n",
        "# Assuming val_images, val_labels, and val_bboxes are already loaded\n",
        "# and that the order of images in val_images corresponds to val_labels and val_bboxes\n",
        "\n",
        "# Get the validation dataset path from the YAML file to load images correctly\n",
        "val_images_dir = data_subset['val'] # Use the subset validation directory\n",
        "\n",
        "\n",
        "for i in tqdm(range(len(val_images))):\n",
        "    # Load the validation image\n",
        "    # Assuming images are saved as .png with filenames like '00000.png'\n",
        "    img_path = os.path.join(val_images_dir, f'{i:05d}.png')\n",
        "    img = Image.open(img_path).convert('RGB')\n",
        "    img_tensor = torchvision.transforms.functional.to_tensor(img).unsqueeze(0) # Add batch dimension\n",
        "\n",
        "    # Get the ground truth bounding boxes and labels for this image\n",
        "    gt_bboxes = val_bboxes[i]\n",
        "    gt_labels = val_labels[i]\n",
        "\n",
        "    # Perform inference\n",
        "    # Setting conf and iou thresholds to capture detections\n",
        "    # Adjust these thresholds as needed\n",
        "    predict_results = model_eval(img_tensor, imgsz=64, conf=0.25, iou=0.45, verbose=False)\n",
        "\n",
        "    # Process results\n",
        "    if predict_results and predict_results[0].boxes is not None:\n",
        "        pred_boxes = predict_results[0].boxes.xyxy # Predicted boxes in xyxy format\n",
        "        pred_labels = predict_results[0].boxes.cls # Predicted class labels\n",
        "\n",
        "        # Compare predicted boxes with ground truth boxes\n",
        "        # A simple approach: for each ground truth box, find the predicted box with the highest IoU\n",
        "        # that also has the correct class label.\n",
        "        for j in range(gt_bboxes.shape[0]):\n",
        "            gt_box = gt_bboxes[j].unsqueeze(0) # Ground truth box\n",
        "            gt_label = gt_labels[j].item()\n",
        "\n",
        "            # Filter predicted boxes by ground truth label\n",
        "            matching_pred_indices = (pred_labels == gt_label).nonzero(as_tuple=True)[0]\n",
        "\n",
        "            if matching_pred_indices.numel() > 0:\n",
        "                matching_pred_boxes = pred_boxes[matching_pred_indices]\n",
        "\n",
        "                # Calculate IoUs between the ground truth box and matching predicted boxes\n",
        "                # Ensure data types are float and on the same device (CPU for bbox_iou)\n",
        "                ious = bbox_iou(gt_box.float().cpu(), matching_pred_boxes.float().cpu(), xywh=False) # xywh=False for xyxy format\n",
        "\n",
        "                # Find the highest IoU among matching predicted boxes\n",
        "                max_iou, max_iou_idx = torch.max(ious, dim=0)\n",
        "\n",
        "                iou_values.append(max_iou.item())\n",
        "                total_iou += max_iou.item()\n",
        "                num_iou_calculations += 1\n",
        "\n",
        "# Calculate the average IoU\n",
        "average_iou = total_iou / num_iou_calculations if num_iou_calculations > 0 else 0\n",
        "\n",
        "print(f\"\\nAverage IoU calculated manually: {average_iou:.4f}\")\n",
        "\n",
        "# You can also analyze the distribution of IoU values if needed\n",
        "# print(f\"Number of IoU calculations: {num_iou_calculations}\")\n",
        "# print(f\"Min IoU: {min(iou_values) if iou_values else 0:.4f}\")\n",
        "# print(f\"Max IoU: {max(iou_values) if iou_values else 0:.4f}\")"
      ],
      "metadata": {
        "id": "PH_XPbn9lOcO",
        "colab": {
          "base_uri": "https://localhost:8080/"
        },
        "outputId": "b409fe0a-98ba-439e-fb97-58a97458ae10"
      },
      "execution_count": 20,
      "outputs": [
        {
          "output_type": "stream",
          "name": "stdout",
          "text": [
            "Loaded model from: /content/runs/train/mnistdd_yolo8n/weights/best.pt\n",
            "Ultralytics 8.3.221 🚀 Python-3.12.12 torch-2.8.0+cu126 CUDA:0 (Tesla T4, 15095MiB)\n",
            "Model summary (fused): 72 layers, 3,007,598 parameters, 0 gradients, 8.1 GFLOPs\n",
            "\u001b[34m\u001b[1mval: \u001b[0mFast image access ✅ (ping: 0.0±0.0 ms, read: 251.3±175.6 MB/s, size: 4.1 KB)\n",
            "\u001b[K\u001b[34m\u001b[1mval: \u001b[0mScanning /content/mnistdd_yolo_subset/labels/val.cache... 5000 images, 0 backgrounds, 0 corrupt: 100% ━━━━━━━━━━━━ 5000/5000 7.8Mit/s 0.0s\n",
            "\u001b[K                 Class     Images  Instances      Box(P          R      mAP50  mAP50-95): 100% ━━━━━━━━━━━━ 313/313 13.9it/s 22.6s\n",
            "                   all       5000      10000       0.88      0.811      0.921      0.627\n",
            "                     0        946        996      0.835      0.943      0.964      0.723\n",
            "                     1        928        985      0.907      0.587      0.788      0.428\n",
            "                     2        943        989      0.845       0.91      0.951      0.676\n",
            "                     3        953       1010      0.901      0.793      0.918      0.659\n",
            "                     4        983       1034      0.926      0.794      0.934      0.603\n",
            "                     5        980       1026      0.765      0.914      0.937      0.651\n",
            "                     6        900        941      0.938       0.76      0.921      0.655\n",
            "                     7        916        966      0.783      0.928      0.947      0.666\n",
            "                     8        988       1040      0.954      0.763      0.941      0.645\n",
            "                     9        956       1013      0.944      0.722      0.911      0.568\n",
            "Speed: 0.0ms preprocess, 0.9ms inference, 0.0ms loss, 0.9ms postprocess per image\n",
            "Results saved to \u001b[1m/content/runs/detect/val\u001b[0m\n",
            "\n",
            "Validation Results (from model.val()):\n",
            "mAP@0.50: 0.9211\n",
            "mAP@0.50-0.95: 0.6275\n",
            "\n",
            "Calculating Average IoU manually for the validation set...\n"
          ]
        },
        {
          "output_type": "stream",
          "name": "stderr",
          "text": [
            "100%|██████████| 5000/5000 [00:41<00:00, 119.51it/s]"
          ]
        },
        {
          "output_type": "stream",
          "name": "stdout",
          "text": [
            "\n",
            "Average IoU calculated manually: 0.8439\n"
          ]
        },
        {
          "output_type": "stream",
          "name": "stderr",
          "text": [
            "\n"
          ]
        }
      ]
    },
    {
      "cell_type": "markdown",
      "source": [
        "# Part B (Take-Home 3%)"
      ],
      "metadata": {
        "id": "Hs8K3cKAlUEs"
      }
    },
    {
      "cell_type": "code",
      "source": [
        "# TODO: train model on full dataset\n",
        "#TODO: train model on full dataset\n",
        "from ultralytics import YOLO\n",
        "\n",
        "#Load a pretrained YOLOv8 nano model\n",
        "model_full = YOLO('yolov8n.pt')\n",
        "\n",
        "print(\"Starting full training on 55K images...\")\n",
        "\n",
        "#Train on full dataset with tuned hyperparameters\n",
        "##Learning rate: 1e-3 (standard for YOLO fine-tuning)\n",
        "#Confidence threshold will be tuned during evaluation (default 0.25)\n",
        "#NMS threshold will be tuned during evaluation (default 0.45)\n",
        "model_full.train(\n",
        "    data=yaml_path_full,  # Use full dataset YAML\n",
        "    epochs=20,             # Train for sufficient epochs\n",
        "    imgsz=64,\n",
        "    batch=64,              # Increased batch size for full dataset\n",
        "    device=0,\n",
        "    name=\"mnistdd_yolo8n_full\",\n",
        "    project=\"runs/train\",\n",
        "    lr0=1e-3,              # Initial learning rate\n",
        "    patience=10,           # Early stopping patience\n",
        "    save=True,\n",
        "    val=True,              # Validate during training\n",
        "    plots=True             # Generate plots\n",
        ")\n",
        "\n",
        "print(\"Full training completed!\")"
      ],
      "metadata": {
        "id": "_isjECsKlXsc",
        "colab": {
          "base_uri": "https://localhost:8080/"
        },
        "outputId": "0badfc42-310e-4113-899e-1c0d7e04370a"
      },
      "execution_count": 15,
      "outputs": [
        {
          "output_type": "stream",
          "name": "stdout",
          "text": [
            "Starting full training on 55K images...\n",
            "Ultralytics 8.3.221 🚀 Python-3.12.12 torch-2.8.0+cu126 CUDA:0 (Tesla T4, 15095MiB)\n",
            "\u001b[34m\u001b[1mengine/trainer: \u001b[0magnostic_nms=False, amp=True, augment=False, auto_augment=randaugment, batch=64, bgr=0.0, box=7.5, cache=False, cfg=None, classes=None, close_mosaic=10, cls=0.5, compile=False, conf=None, copy_paste=0.0, copy_paste_mode=flip, cos_lr=False, cutmix=0.0, data=/content/mnistdd_yolo_full.yaml, degrees=0.0, deterministic=True, device=0, dfl=1.5, dnn=False, dropout=0.0, dynamic=False, embed=None, epochs=20, erasing=0.4, exist_ok=False, fliplr=0.5, flipud=0.0, format=torchscript, fraction=1.0, freeze=None, half=False, hsv_h=0.015, hsv_s=0.7, hsv_v=0.4, imgsz=64, int8=False, iou=0.7, keras=False, kobj=1.0, line_width=None, lr0=0.001, lrf=0.01, mask_ratio=4, max_det=300, mixup=0.0, mode=train, model=yolov8n.pt, momentum=0.937, mosaic=1.0, multi_scale=False, name=mnistdd_yolo8n_full2, nbs=64, nms=False, opset=None, optimize=False, optimizer=auto, overlap_mask=True, patience=10, perspective=0.0, plots=True, pose=12.0, pretrained=True, profile=False, project=runs/train, rect=False, resume=False, retina_masks=False, save=True, save_conf=False, save_crop=False, save_dir=/content/runs/train/mnistdd_yolo8n_full2, save_frames=False, save_json=False, save_period=-1, save_txt=False, scale=0.5, seed=0, shear=0.0, show=False, show_boxes=True, show_conf=True, show_labels=True, simplify=True, single_cls=False, source=None, split=val, stream_buffer=False, task=detect, time=None, tracker=botsort.yaml, translate=0.1, val=True, verbose=True, vid_stride=1, visualize=False, warmup_bias_lr=0.1, warmup_epochs=3.0, warmup_momentum=0.8, weight_decay=0.0005, workers=8, workspace=None\n",
            "Overriding model.yaml nc=80 with nc=10\n",
            "\n",
            "                   from  n    params  module                                       arguments                     \n",
            "  0                  -1  1       464  ultralytics.nn.modules.conv.Conv             [3, 16, 3, 2]                 \n",
            "  1                  -1  1      4672  ultralytics.nn.modules.conv.Conv             [16, 32, 3, 2]                \n",
            "  2                  -1  1      7360  ultralytics.nn.modules.block.C2f             [32, 32, 1, True]             \n",
            "  3                  -1  1     18560  ultralytics.nn.modules.conv.Conv             [32, 64, 3, 2]                \n",
            "  4                  -1  2     49664  ultralytics.nn.modules.block.C2f             [64, 64, 2, True]             \n",
            "  5                  -1  1     73984  ultralytics.nn.modules.conv.Conv             [64, 128, 3, 2]               \n",
            "  6                  -1  2    197632  ultralytics.nn.modules.block.C2f             [128, 128, 2, True]           \n",
            "  7                  -1  1    295424  ultralytics.nn.modules.conv.Conv             [128, 256, 3, 2]              \n",
            "  8                  -1  1    460288  ultralytics.nn.modules.block.C2f             [256, 256, 1, True]           \n",
            "  9                  -1  1    164608  ultralytics.nn.modules.block.SPPF            [256, 256, 5]                 \n",
            " 10                  -1  1         0  torch.nn.modules.upsampling.Upsample         [None, 2, 'nearest']          \n",
            " 11             [-1, 6]  1         0  ultralytics.nn.modules.conv.Concat           [1]                           \n",
            " 12                  -1  1    148224  ultralytics.nn.modules.block.C2f             [384, 128, 1]                 \n",
            " 13                  -1  1         0  torch.nn.modules.upsampling.Upsample         [None, 2, 'nearest']          \n",
            " 14             [-1, 4]  1         0  ultralytics.nn.modules.conv.Concat           [1]                           \n",
            " 15                  -1  1     37248  ultralytics.nn.modules.block.C2f             [192, 64, 1]                  \n",
            " 16                  -1  1     36992  ultralytics.nn.modules.conv.Conv             [64, 64, 3, 2]                \n",
            " 17            [-1, 12]  1         0  ultralytics.nn.modules.conv.Concat           [1]                           \n",
            " 18                  -1  1    123648  ultralytics.nn.modules.block.C2f             [192, 128, 1]                 \n",
            " 19                  -1  1    147712  ultralytics.nn.modules.conv.Conv             [128, 128, 3, 2]              \n",
            " 20             [-1, 9]  1         0  ultralytics.nn.modules.conv.Concat           [1]                           \n",
            " 21                  -1  1    493056  ultralytics.nn.modules.block.C2f             [384, 256, 1]                 \n",
            " 22        [15, 18, 21]  1    753262  ultralytics.nn.modules.head.Detect           [10, [64, 128, 256]]          \n",
            "Model summary: 129 layers, 3,012,798 parameters, 3,012,782 gradients, 8.2 GFLOPs\n",
            "\n",
            "Transferred 319/355 items from pretrained weights\n",
            "Freezing layer 'model.22.dfl.conv.weight'\n",
            "\u001b[34m\u001b[1mAMP: \u001b[0mrunning Automatic Mixed Precision (AMP) checks...\n",
            "\u001b[34m\u001b[1mAMP: \u001b[0mchecks passed ✅\n",
            "\u001b[34m\u001b[1mtrain: \u001b[0mFast image access ✅ (ping: 0.0±0.0 ms, read: 112.0±84.3 MB/s, size: 3.1 KB)\n",
            "\u001b[K\u001b[34m\u001b[1mtrain: \u001b[0mScanning /content/mnistdd_yolo_full/labels/train.cache... 55000 images, 0 backgrounds, 0 corrupt: 100% ━━━━━━━━━━━━ 55000/55000 76.0Mit/s 0.0s\n",
            "\u001b[34m\u001b[1malbumentations: \u001b[0mBlur(p=0.01, blur_limit=(3, 7)), MedianBlur(p=0.01, blur_limit=(3, 7)), ToGray(p=0.01, method='weighted_average', num_output_channels=3), CLAHE(p=0.01, clip_limit=(1.0, 4.0), tile_grid_size=(8, 8))\n",
            "\u001b[34m\u001b[1mval: \u001b[0mFast image access ✅ (ping: 0.0±0.0 ms, read: 112.3±91.7 MB/s, size: 3.8 KB)\n",
            "\u001b[K\u001b[34m\u001b[1mval: \u001b[0mScanning /content/mnistdd_yolo_full/labels/val.cache... 5000 images, 0 backgrounds, 0 corrupt: 100% ━━━━━━━━━━━━ 5000/5000 4.8Mit/s 0.0s\n",
            "Plotting labels to /content/runs/train/mnistdd_yolo8n_full2/labels.jpg... \n",
            "\u001b[34m\u001b[1moptimizer:\u001b[0m 'optimizer=auto' found, ignoring 'lr0=0.001' and 'momentum=0.937' and determining best 'optimizer', 'lr0' and 'momentum' automatically... \n",
            "\u001b[34m\u001b[1moptimizer:\u001b[0m SGD(lr=0.01, momentum=0.9) with parameter groups 57 weight(decay=0.0), 64 weight(decay=0.0005), 63 bias(decay=0.0)\n",
            "Image sizes 64 train, 64 val\n",
            "Using 2 dataloader workers\n",
            "Logging results to \u001b[1m/content/runs/train/mnistdd_yolo8n_full2\u001b[0m\n",
            "Starting training for 20 epochs...\n",
            "\n",
            "      Epoch    GPU_mem   box_loss   cls_loss   dfl_loss  Instances       Size\n",
            "\u001b[K       1/20     0.262G       1.81       2.84     0.9882         68         64: 100% ━━━━━━━━━━━━ 860/860 6.0it/s 2:23\n",
            "\u001b[K                 Class     Images  Instances      Box(P          R      mAP50  mAP50-95): 100% ━━━━━━━━━━━━ 40/40 2.5it/s 16.0s\n",
            "                   all       5000      10000      0.682      0.696       0.74       0.48\n",
            "\n",
            "      Epoch    GPU_mem   box_loss   cls_loss   dfl_loss  Instances       Size\n",
            "\u001b[K       2/20     0.307G      1.447      1.254     0.9041         75         64: 100% ━━━━━━━━━━━━ 860/860 6.1it/s 2:20\n",
            "\u001b[K                 Class     Images  Instances      Box(P          R      mAP50  mAP50-95): 100% ━━━━━━━━━━━━ 40/40 2.6it/s 15.5s\n",
            "                   all       5000      10000      0.834      0.796      0.891       0.59\n",
            "\n",
            "      Epoch    GPU_mem   box_loss   cls_loss   dfl_loss  Instances       Size\n",
            "\u001b[K       3/20     0.307G      1.385      1.077     0.8953         78         64: 100% ━━━━━━━━━━━━ 860/860 6.1it/s 2:22\n",
            "\u001b[K                 Class     Images  Instances      Box(P          R      mAP50  mAP50-95): 100% ━━━━━━━━━━━━ 40/40 2.7it/s 14.7s\n",
            "                   all       5000      10000      0.893      0.819      0.908      0.592\n",
            "\n",
            "      Epoch    GPU_mem   box_loss   cls_loss   dfl_loss  Instances       Size\n",
            "\u001b[K       4/20     0.307G      1.287     0.9563     0.8835         80         64: 100% ━━━━━━━━━━━━ 860/860 6.1it/s 2:20\n",
            "\u001b[K                 Class     Images  Instances      Box(P          R      mAP50  mAP50-95): 100% ━━━━━━━━━━━━ 40/40 2.7it/s 14.6s\n",
            "                   all       5000      10000      0.942      0.896       0.96      0.716\n",
            "\n",
            "      Epoch    GPU_mem   box_loss   cls_loss   dfl_loss  Instances       Size\n",
            "\u001b[K       5/20     0.307G      1.176     0.8478     0.8713         65         64: 100% ━━━━━━━━━━━━ 860/860 6.0it/s 2:24\n",
            "\u001b[K                 Class     Images  Instances      Box(P          R      mAP50  mAP50-95): 100% ━━━━━━━━━━━━ 40/40 2.6it/s 15.2s\n",
            "                   all       5000      10000      0.955       0.89      0.959      0.725\n",
            "\n",
            "      Epoch    GPU_mem   box_loss   cls_loss   dfl_loss  Instances       Size\n",
            "\u001b[K       6/20     0.307G      1.117     0.7879     0.8635         79         64: 100% ━━━━━━━━━━━━ 860/860 6.1it/s 2:21\n",
            "\u001b[K                 Class     Images  Instances      Box(P          R      mAP50  mAP50-95): 100% ━━━━━━━━━━━━ 40/40 2.7it/s 14.9s\n",
            "                   all       5000      10000      0.959      0.914      0.965      0.754\n",
            "\n",
            "      Epoch    GPU_mem   box_loss   cls_loss   dfl_loss  Instances       Size\n",
            "\u001b[K       7/20     0.318G      1.074     0.7482     0.8601         94         64: 100% ━━━━━━━━━━━━ 860/860 6.1it/s 2:20\n",
            "\u001b[K                 Class     Images  Instances      Box(P          R      mAP50  mAP50-95): 100% ━━━━━━━━━━━━ 40/40 2.7it/s 15.0s\n",
            "                   all       5000      10000      0.964      0.918      0.971      0.769\n",
            "\n",
            "      Epoch    GPU_mem   box_loss   cls_loss   dfl_loss  Instances       Size\n",
            "\u001b[K       8/20     0.318G      1.045      0.721     0.8557         72         64: 100% ━━━━━━━━━━━━ 860/860 6.2it/s 2:19\n",
            "\u001b[K                 Class     Images  Instances      Box(P          R      mAP50  mAP50-95): 100% ━━━━━━━━━━━━ 40/40 2.7it/s 14.9s\n",
            "                   all       5000      10000      0.971       0.92      0.974      0.784\n",
            "\n",
            "      Epoch    GPU_mem   box_loss   cls_loss   dfl_loss  Instances       Size\n",
            "\u001b[K       9/20     0.318G      1.017     0.6925     0.8524         70         64: 100% ━━━━━━━━━━━━ 860/860 6.3it/s 2:17\n",
            "\u001b[K                 Class     Images  Instances      Box(P          R      mAP50  mAP50-95): 100% ━━━━━━━━━━━━ 40/40 2.7it/s 14.9s\n",
            "                   all       5000      10000       0.97      0.924      0.973      0.787\n",
            "\n",
            "      Epoch    GPU_mem   box_loss   cls_loss   dfl_loss  Instances       Size\n",
            "\u001b[K      10/20     0.318G     0.9951     0.6748     0.8509         70         64: 100% ━━━━━━━━━━━━ 860/860 6.2it/s 2:18\n",
            "\u001b[K                 Class     Images  Instances      Box(P          R      mAP50  mAP50-95): 100% ━━━━━━━━━━━━ 40/40 2.6it/s 15.4s\n",
            "                   all       5000      10000      0.971       0.93      0.977      0.801\n",
            "Closing dataloader mosaic\n",
            "\u001b[34m\u001b[1malbumentations: \u001b[0mBlur(p=0.01, blur_limit=(3, 7)), MedianBlur(p=0.01, blur_limit=(3, 7)), ToGray(p=0.01, method='weighted_average', num_output_channels=3), CLAHE(p=0.01, clip_limit=(1.0, 4.0), tile_grid_size=(8, 8))\n",
            "\n",
            "      Epoch    GPU_mem   box_loss   cls_loss   dfl_loss  Instances       Size\n",
            "\u001b[K      11/20     0.318G     0.7926     0.4858     0.8195         48         64: 100% ━━━━━━━━━━━━ 860/860 6.8it/s 2:07\n",
            "\u001b[K                 Class     Images  Instances      Box(P          R      mAP50  mAP50-95): 100% ━━━━━━━━━━━━ 40/40 2.8it/s 14.4s\n",
            "                   all       5000      10000      0.972      0.932      0.979      0.794\n",
            "\n",
            "      Epoch    GPU_mem   box_loss   cls_loss   dfl_loss  Instances       Size\n",
            "\u001b[K      12/20     0.318G     0.7667     0.4635     0.8164         48         64: 100% ━━━━━━━━━━━━ 860/860 6.8it/s 2:06\n",
            "\u001b[K                 Class     Images  Instances      Box(P          R      mAP50  mAP50-95): 100% ━━━━━━━━━━━━ 40/40 2.8it/s 14.4s\n",
            "                   all       5000      10000      0.966      0.926      0.977      0.773\n",
            "\n",
            "      Epoch    GPU_mem   box_loss   cls_loss   dfl_loss  Instances       Size\n",
            "\u001b[K      13/20     0.318G     0.7487      0.449      0.814         48         64: 100% ━━━━━━━━━━━━ 860/860 6.7it/s 2:08\n",
            "\u001b[K                 Class     Images  Instances      Box(P          R      mAP50  mAP50-95): 100% ━━━━━━━━━━━━ 40/40 2.7it/s 14.8s\n",
            "                   all       5000      10000      0.965      0.929      0.977      0.768\n",
            "\n",
            "      Epoch    GPU_mem   box_loss   cls_loss   dfl_loss  Instances       Size\n",
            "\u001b[K      14/20     0.318G     0.7307     0.4352     0.8114         48         64: 100% ━━━━━━━━━━━━ 860/860 6.7it/s 2:09\n",
            "\u001b[K                 Class     Images  Instances      Box(P          R      mAP50  mAP50-95): 100% ━━━━━━━━━━━━ 40/40 2.8it/s 14.5s\n",
            "                   all       5000      10000      0.965      0.929      0.978      0.754\n",
            "\n",
            "      Epoch    GPU_mem   box_loss   cls_loss   dfl_loss  Instances       Size\n",
            "\u001b[K      15/20     0.318G     0.7166     0.4231     0.8099         48         64: 100% ━━━━━━━━━━━━ 860/860 6.7it/s 2:08\n",
            "\u001b[K                 Class     Images  Instances      Box(P          R      mAP50  mAP50-95): 100% ━━━━━━━━━━━━ 40/40 2.8it/s 14.3s\n",
            "                   all       5000      10000      0.965      0.927      0.977      0.753\n",
            "\n",
            "      Epoch    GPU_mem   box_loss   cls_loss   dfl_loss  Instances       Size\n",
            "\u001b[K      16/20     0.318G      0.701     0.4123     0.8083         48         64: 100% ━━━━━━━━━━━━ 860/860 6.8it/s 2:07\n",
            "\u001b[K                 Class     Images  Instances      Box(P          R      mAP50  mAP50-95): 100% ━━━━━━━━━━━━ 40/40 2.6it/s 15.4s\n",
            "                   all       5000      10000      0.965      0.923      0.976      0.743\n",
            "\n",
            "      Epoch    GPU_mem   box_loss   cls_loss   dfl_loss  Instances       Size\n",
            "\u001b[K      17/20     0.318G     0.6881     0.4014     0.8081         47         64: 100% ━━━━━━━━━━━━ 860/860 6.7it/s 2:08\n",
            "\u001b[K                 Class     Images  Instances      Box(P          R      mAP50  mAP50-95): 100% ━━━━━━━━━━━━ 40/40 2.8it/s 14.5s\n",
            "                   all       5000      10000      0.963      0.925      0.976      0.739\n",
            "\n",
            "      Epoch    GPU_mem   box_loss   cls_loss   dfl_loss  Instances       Size\n",
            "\u001b[K      18/20     0.318G     0.6741     0.3908     0.8063         48         64: 100% ━━━━━━━━━━━━ 860/860 6.7it/s 2:07\n",
            "\u001b[K                 Class     Images  Instances      Box(P          R      mAP50  mAP50-95): 100% ━━━━━━━━━━━━ 40/40 2.8it/s 14.1s\n",
            "                   all       5000      10000      0.957       0.93      0.976      0.737\n",
            "\n",
            "      Epoch    GPU_mem   box_loss   cls_loss   dfl_loss  Instances       Size\n",
            "\u001b[K      19/20     0.318G     0.6611     0.3801     0.8044         48         64: 100% ━━━━━━━━━━━━ 860/860 6.9it/s 2:05\n",
            "\u001b[K                 Class     Images  Instances      Box(P          R      mAP50  mAP50-95): 100% ━━━━━━━━━━━━ 40/40 2.8it/s 14.2s\n",
            "                   all       5000      10000      0.961      0.925      0.976      0.736\n",
            "\n",
            "      Epoch    GPU_mem   box_loss   cls_loss   dfl_loss  Instances       Size\n",
            "\u001b[K      20/20     0.318G     0.6479      0.371     0.8036         48         64: 100% ━━━━━━━━━━━━ 860/860 6.9it/s 2:05\n",
            "\u001b[K                 Class     Images  Instances      Box(P          R      mAP50  mAP50-95): 100% ━━━━━━━━━━━━ 40/40 2.7it/s 14.6s\n",
            "                   all       5000      10000      0.961      0.925      0.977      0.736\n",
            "\u001b[34m\u001b[1mEarlyStopping: \u001b[0mTraining stopped early as no improvement observed in last 10 epochs. Best results observed at epoch 10, best model saved as best.pt.\n",
            "To update EarlyStopping(patience=10) pass a new patience value, i.e. `patience=300` or use `patience=0` to disable EarlyStopping.\n",
            "\n",
            "20 epochs completed in 0.828 hours.\n",
            "Optimizer stripped from /content/runs/train/mnistdd_yolo8n_full2/weights/last.pt, 6.2MB\n",
            "Optimizer stripped from /content/runs/train/mnistdd_yolo8n_full2/weights/best.pt, 6.2MB\n",
            "\n",
            "Validating /content/runs/train/mnistdd_yolo8n_full2/weights/best.pt...\n",
            "Ultralytics 8.3.221 🚀 Python-3.12.12 torch-2.8.0+cu126 CUDA:0 (Tesla T4, 15095MiB)\n",
            "Model summary (fused): 72 layers, 3,007,598 parameters, 0 gradients, 8.1 GFLOPs\n",
            "\u001b[K                 Class     Images  Instances      Box(P          R      mAP50  mAP50-95): 100% ━━━━━━━━━━━━ 40/40 2.1it/s 18.9s\n",
            "                   all       5000      10000      0.972      0.929      0.977      0.801\n",
            "                     0        946        996      0.976      0.968      0.992      0.858\n",
            "                     1        928        985      0.966      0.691      0.867      0.591\n",
            "                     2        943        989      0.976      0.971      0.993       0.82\n",
            "                     3        953       1010      0.964      0.948      0.986      0.831\n",
            "                     4        983       1034      0.983      0.951       0.99       0.81\n",
            "                     5        980       1026      0.974       0.97      0.992      0.841\n",
            "                     6        900        941      0.968      0.958       0.99      0.828\n",
            "                     7        916        966      0.969      0.931      0.983      0.804\n",
            "                     8        988       1040      0.978      0.962      0.992      0.826\n",
            "                     9        956       1013      0.967      0.945      0.985        0.8\n",
            "Speed: 0.0ms preprocess, 0.1ms inference, 0.0ms loss, 1.2ms postprocess per image\n",
            "Results saved to \u001b[1m/content/runs/train/mnistdd_yolo8n_full2\u001b[0m\n",
            "Full training completed!\n"
          ]
        }
      ]
    },
    {
      "cell_type": "code",
      "source": [
        "# TODO: save the model weights (and don't forget to upload them on Canvas)\n",
        "# TODO: save the model weights (and don't forget to upload them on Canvas)\n",
        "import shutil\n",
        "\n",
        "best_full_model_path = '/content/runs/train/mnistdd_yolo8n_full2/weights/best.pt'\n",
        "last_full_model_path = '/content/runs/train/mnistdd_yolo8n_full2/weights/last.pt'\n",
        "\n",
        "print(f\"Best full model weights saved to: {best_full_model_path}\")\n",
        "print(f\"Last full model weights saved to: {last_full_model_path}\")"
      ],
      "metadata": {
        "id": "pJ20TYMNl352",
        "colab": {
          "base_uri": "https://localhost:8080/"
        },
        "outputId": "d14cbcc0-bc45-4d26-bdd6-2efa2da1c30f"
      },
      "execution_count": 18,
      "outputs": [
        {
          "output_type": "stream",
          "name": "stdout",
          "text": [
            "Best full model weights saved to: /content/runs/train/mnistdd_yolo8n_full2/weights/best.pt\n",
            "Last full model weights saved to: /content/runs/train/mnistdd_yolo8n_full2/weights/last.pt\n"
          ]
        }
      ]
    },
    {
      "cell_type": "code",
      "source": [
        "# TODO: evaluation metrics\n",
        "# TODO: evaluation metrics\n",
        "from ultralytics.utils.metrics import bbox_iou\n",
        "\n",
        "# Load the best model from full training\n",
        "model_eval_full = YOLO(best_full_model_path)\n",
        "print(f\"Loaded full model from: {best_full_model_path}\")\n",
        "\n",
        "# Evaluate on validation set with standard metrics\n",
        "print(\"\\n=== Standard Validation Metrics ===\")\n",
        "results = model_eval_full.val(data=yaml_path_full, imgsz=64)\n",
        "\n",
        "print(\"\\nValidation Results (from model.val()):\")\n",
        "print(f\"mAP@0.50: {results.box.map50:.4f}\")\n",
        "print(f\"mAP@0.50-0.95: {results.box.map:.4f}\")\n",
        "print(f\"Precision: {results.box.mp:.4f}\")\n",
        "print(f\"Recall: {results.box.mr:.4f}\")\n",
        "\n",
        "# Manual IoU calculation for more detailed analysis\n",
        "print(\"\\n=== Manual Average IoU Calculation ===\")\n",
        "val_images_dir = data_full['val']\n",
        "\n",
        "total_iou = 0\n",
        "num_iou_calculations = 0\n",
        "iou_values = []\n",
        "\n",
        "# Test different confidence and NMS thresholds for tuning\n",
        "confidence_thresholds = [0.25, 0.3, 0.35, 0.4]\n",
        "nms_thresholds = [0.4, 0.45, 0.5, 0.55]\n",
        "\n",
        "best_iou = 0\n",
        "best_conf = 0.25\n",
        "best_nms = 0.45\n",
        "\n",
        "print(\"\\nTuning confidence and NMS thresholds on validation set...\")\n",
        "for conf_thresh in confidence_thresholds:\n",
        "    for nms_thresh in nms_thresholds:\n",
        "        total_iou_temp = 0\n",
        "        num_calc = 0\n",
        "\n",
        "        for i in tqdm(range(min(1000, len(val_images))), desc=f\"Conf={conf_thresh}, NMS={nms_thresh}\"):\n",
        "            img_path = os.path.join(val_images_dir, f'{i:05d}.png')\n",
        "            img = Image.open(img_path).convert('RGB')\n",
        "            img_tensor = torchvision.transforms.functional.to_tensor(img).unsqueeze(0)\n",
        "\n",
        "            gt_bboxes = val_bboxes[i]\n",
        "            gt_labels = val_labels[i]\n",
        "\n",
        "            predict_results = model_eval_full(img_tensor, imgsz=64, conf=conf_thresh, iou=nms_thresh, verbose=False)\n",
        "\n",
        "            if predict_results and predict_results[0].boxes is not None:\n",
        "                pred_boxes = predict_results[0].boxes.xyxy\n",
        "                pred_labels = predict_results[0].boxes.cls\n",
        "\n",
        "                for j in range(gt_bboxes.shape[0]):\n",
        "                    gt_box = gt_bboxes[j].unsqueeze(0)\n",
        "                    gt_label = gt_labels[j].item()\n",
        "\n",
        "                    matching_pred_indices = (pred_labels == gt_label).nonzero(as_tuple=True)[0]\n",
        "\n",
        "                    if matching_pred_indices.numel() > 0:\n",
        "                        matching_pred_boxes = pred_boxes[matching_pred_indices]\n",
        "                        ious = bbox_iou(gt_box.float().cpu(), matching_pred_boxes.float().cpu(), xywh=False)\n",
        "                        max_iou = torch.max(ious).item()\n",
        "\n",
        "                        total_iou_temp += max_iou\n",
        "                        num_calc += 1\n",
        "\n",
        "        avg_iou_temp = total_iou_temp / num_calc if num_calc > 0 else 0\n",
        "        print(f\"Conf={conf_thresh}, NMS={nms_thresh}, Avg IoU: {avg_iou_temp:.4f}\")\n",
        "\n",
        "        if avg_iou_temp > best_iou:\n",
        "            best_iou = avg_iou_temp\n",
        "            best_conf = conf_thresh\n",
        "            best_nms = nms_thresh\n",
        "\n",
        "print(f\"\\n=== Best Thresholds ===\")\n",
        "print(f\"Best Confidence Threshold: {best_conf}\")\n",
        "print(f\"Best NMS Threshold: {best_nms}\")\n",
        "print(f\"Best Average IoU: {best_iou:.4f}\")\n",
        "\n",
        "# Final evaluation on entire validation set with best thresholds\n",
        "print(\"\\n=== Final Evaluation on Entire Validation Set ===\")\n",
        "total_iou = 0\n",
        "num_calc = 0\n",
        "\n",
        "for i in tqdm(range(len(val_images)), desc=\"Final IoU calculation\"):\n",
        "    img_path = os.path.join(val_images_dir, f'{i:05d}.png')\n",
        "    img = Image.open(img_path).convert('RGB')\n",
        "    img_tensor = torchvision.transforms.functional.to_tensor(img).unsqueeze(0)\n",
        "\n",
        "    gt_bboxes = val_bboxes[i]\n",
        "    gt_labels = val_labels[i]\n",
        "\n",
        "    predict_results = model_eval_full(img_tensor, imgsz=64, conf=best_conf, iou=best_nms, verbose=False)\n",
        "\n",
        "    if predict_results and predict_results[0].boxes is not None:\n",
        "        pred_boxes = predict_results[0].boxes.xyxy\n",
        "        pred_labels = predict_results[0].boxes.cls\n",
        "\n",
        "        for j in range(gt_bboxes.shape[0]):\n",
        "            gt_box = gt_bboxes[j].unsqueeze(0)\n",
        "            gt_label = gt_labels[j].item()\n",
        "\n",
        "            matching_pred_indices = (pred_labels == gt_label).nonzero(as_tuple=True)[0]\n",
        "\n",
        "            if matching_pred_indices.numel() > 0:\n",
        "                matching_pred_boxes = pred_boxes[matching_pred_indices]\n",
        "                ious = bbox_iou(gt_box.float().cpu(), matching_pred_boxes.float().cpu(), xywh=False)\n",
        "                max_iou = torch.max(ious).item()\n",
        "\n",
        "                iou_values.append(max_iou)\n",
        "                total_iou += max_iou\n",
        "                num_calc += 1\n",
        "\n",
        "final_avg_iou = total_iou / num_calc if num_calc > 0 else 0\n",
        "\n",
        "print(f\"\\n=== Final Metrics Summary ===\")\n",
        "print(f\"Average IoU: {final_avg_iou:.4f}\")\n",
        "print(f\"mAP@0.50: {results.box.map50:.4f}\")\n",
        "print(f\"mAP@0.50-0.95: {results.box.map:.4f}\")\n",
        "print(f\"Precision: {results.box.mp:.4f}\")\n",
        "print(f\"Recall: {results.box.mr:.4f}\")"
      ],
      "metadata": {
        "id": "K2JUgpxelkNR",
        "colab": {
          "base_uri": "https://localhost:8080/"
        },
        "outputId": "7fc436bb-c495-4693-f39a-db06a4ab7e54"
      },
      "execution_count": 19,
      "outputs": [
        {
          "output_type": "stream",
          "name": "stdout",
          "text": [
            "Loaded full model from: /content/runs/train/mnistdd_yolo8n_full2/weights/best.pt\n",
            "\n",
            "=== Standard Validation Metrics ===\n",
            "Ultralytics 8.3.221 🚀 Python-3.12.12 torch-2.8.0+cu126 CUDA:0 (Tesla T4, 15095MiB)\n",
            "Model summary (fused): 72 layers, 3,007,598 parameters, 0 gradients, 8.1 GFLOPs\n",
            "\u001b[34m\u001b[1mval: \u001b[0mFast image access ✅ (ping: 0.0±0.0 ms, read: 189.5±140.4 MB/s, size: 3.5 KB)\n",
            "\u001b[K\u001b[34m\u001b[1mval: \u001b[0mScanning /content/mnistdd_yolo_full/labels/val.cache... 5000 images, 0 backgrounds, 0 corrupt: 100% ━━━━━━━━━━━━ 5000/5000 9.6Mit/s 0.0s\n",
            "\u001b[K                 Class     Images  Instances      Box(P          R      mAP50  mAP50-95): 100% ━━━━━━━━━━━━ 313/313 14.9it/s 20.9s\n",
            "                   all       5000      10000      0.972       0.93      0.977      0.801\n",
            "                     0        946        996      0.977      0.969      0.992      0.859\n",
            "                     1        928        985      0.964      0.691      0.867      0.592\n",
            "                     2        943        989      0.976      0.971      0.993       0.82\n",
            "                     3        953       1010      0.964      0.948      0.986      0.831\n",
            "                     4        983       1034      0.982      0.952       0.99      0.811\n",
            "                     5        980       1026      0.973       0.97      0.992      0.841\n",
            "                     6        900        941      0.968      0.958       0.99      0.827\n",
            "                     7        916        966      0.968      0.931      0.983      0.804\n",
            "                     8        988       1040      0.978      0.962      0.991      0.825\n",
            "                     9        956       1013      0.967      0.946      0.985      0.799\n",
            "Speed: 0.0ms preprocess, 0.8ms inference, 0.0ms loss, 0.8ms postprocess per image\n",
            "Results saved to \u001b[1m/content/runs/detect/val\u001b[0m\n",
            "\n",
            "Validation Results (from model.val()):\n",
            "mAP@0.50: 0.9769\n",
            "mAP@0.50-0.95: 0.8010\n",
            "Precision: 0.9715\n",
            "Recall: 0.9297\n",
            "\n",
            "=== Manual Average IoU Calculation ===\n",
            "\n",
            "Tuning confidence and NMS thresholds on validation set...\n"
          ]
        },
        {
          "output_type": "stream",
          "name": "stderr",
          "text": [
            "Conf=0.25, NMS=0.4: 100%|██████████| 1000/1000 [00:07<00:00, 127.70it/s]\n"
          ]
        },
        {
          "output_type": "stream",
          "name": "stdout",
          "text": [
            "Conf=0.25, NMS=0.4, Avg IoU: 0.8917\n"
          ]
        },
        {
          "output_type": "stream",
          "name": "stderr",
          "text": [
            "Conf=0.25, NMS=0.45: 100%|██████████| 1000/1000 [00:08<00:00, 117.29it/s]\n"
          ]
        },
        {
          "output_type": "stream",
          "name": "stdout",
          "text": [
            "Conf=0.25, NMS=0.45, Avg IoU: 0.8917\n"
          ]
        },
        {
          "output_type": "stream",
          "name": "stderr",
          "text": [
            "Conf=0.25, NMS=0.5: 100%|██████████| 1000/1000 [00:08<00:00, 117.22it/s]\n"
          ]
        },
        {
          "output_type": "stream",
          "name": "stdout",
          "text": [
            "Conf=0.25, NMS=0.5, Avg IoU: 0.8923\n"
          ]
        },
        {
          "output_type": "stream",
          "name": "stderr",
          "text": [
            "Conf=0.25, NMS=0.55: 100%|██████████| 1000/1000 [00:07<00:00, 129.27it/s]\n"
          ]
        },
        {
          "output_type": "stream",
          "name": "stdout",
          "text": [
            "Conf=0.25, NMS=0.55, Avg IoU: 0.8923\n"
          ]
        },
        {
          "output_type": "stream",
          "name": "stderr",
          "text": [
            "Conf=0.3, NMS=0.4: 100%|██████████| 1000/1000 [00:08<00:00, 116.30it/s]\n"
          ]
        },
        {
          "output_type": "stream",
          "name": "stdout",
          "text": [
            "Conf=0.3, NMS=0.4, Avg IoU: 0.8921\n"
          ]
        },
        {
          "output_type": "stream",
          "name": "stderr",
          "text": [
            "Conf=0.3, NMS=0.45: 100%|██████████| 1000/1000 [00:08<00:00, 116.61it/s]\n"
          ]
        },
        {
          "output_type": "stream",
          "name": "stdout",
          "text": [
            "Conf=0.3, NMS=0.45, Avg IoU: 0.8920\n"
          ]
        },
        {
          "output_type": "stream",
          "name": "stderr",
          "text": [
            "Conf=0.3, NMS=0.5: 100%|██████████| 1000/1000 [00:07<00:00, 130.70it/s]\n"
          ]
        },
        {
          "output_type": "stream",
          "name": "stdout",
          "text": [
            "Conf=0.3, NMS=0.5, Avg IoU: 0.8927\n"
          ]
        },
        {
          "output_type": "stream",
          "name": "stderr",
          "text": [
            "Conf=0.3, NMS=0.55: 100%|██████████| 1000/1000 [00:08<00:00, 116.90it/s]\n"
          ]
        },
        {
          "output_type": "stream",
          "name": "stdout",
          "text": [
            "Conf=0.3, NMS=0.55, Avg IoU: 0.8927\n"
          ]
        },
        {
          "output_type": "stream",
          "name": "stderr",
          "text": [
            "Conf=0.35, NMS=0.4: 100%|██████████| 1000/1000 [00:07<00:00, 126.13it/s]\n"
          ]
        },
        {
          "output_type": "stream",
          "name": "stdout",
          "text": [
            "Conf=0.35, NMS=0.4, Avg IoU: 0.8944\n"
          ]
        },
        {
          "output_type": "stream",
          "name": "stderr",
          "text": [
            "Conf=0.35, NMS=0.45: 100%|██████████| 1000/1000 [00:08<00:00, 121.02it/s]\n"
          ]
        },
        {
          "output_type": "stream",
          "name": "stdout",
          "text": [
            "Conf=0.35, NMS=0.45, Avg IoU: 0.8943\n"
          ]
        },
        {
          "output_type": "stream",
          "name": "stderr",
          "text": [
            "Conf=0.35, NMS=0.5: 100%|██████████| 1000/1000 [00:08<00:00, 117.15it/s]\n"
          ]
        },
        {
          "output_type": "stream",
          "name": "stdout",
          "text": [
            "Conf=0.35, NMS=0.5, Avg IoU: 0.8950\n"
          ]
        },
        {
          "output_type": "stream",
          "name": "stderr",
          "text": [
            "Conf=0.35, NMS=0.55: 100%|██████████| 1000/1000 [00:07<00:00, 129.52it/s]\n"
          ]
        },
        {
          "output_type": "stream",
          "name": "stdout",
          "text": [
            "Conf=0.35, NMS=0.55, Avg IoU: 0.8950\n"
          ]
        },
        {
          "output_type": "stream",
          "name": "stderr",
          "text": [
            "Conf=0.4, NMS=0.4: 100%|██████████| 1000/1000 [00:08<00:00, 117.07it/s]\n"
          ]
        },
        {
          "output_type": "stream",
          "name": "stdout",
          "text": [
            "Conf=0.4, NMS=0.4, Avg IoU: 0.8951\n"
          ]
        },
        {
          "output_type": "stream",
          "name": "stderr",
          "text": [
            "Conf=0.4, NMS=0.45: 100%|██████████| 1000/1000 [00:08<00:00, 116.41it/s]\n"
          ]
        },
        {
          "output_type": "stream",
          "name": "stdout",
          "text": [
            "Conf=0.4, NMS=0.45, Avg IoU: 0.8951\n"
          ]
        },
        {
          "output_type": "stream",
          "name": "stderr",
          "text": [
            "Conf=0.4, NMS=0.5: 100%|██████████| 1000/1000 [00:07<00:00, 129.61it/s]\n"
          ]
        },
        {
          "output_type": "stream",
          "name": "stdout",
          "text": [
            "Conf=0.4, NMS=0.5, Avg IoU: 0.8957\n"
          ]
        },
        {
          "output_type": "stream",
          "name": "stderr",
          "text": [
            "Conf=0.4, NMS=0.55: 100%|██████████| 1000/1000 [00:08<00:00, 117.00it/s]\n"
          ]
        },
        {
          "output_type": "stream",
          "name": "stdout",
          "text": [
            "Conf=0.4, NMS=0.55, Avg IoU: 0.8957\n",
            "\n",
            "=== Best Thresholds ===\n",
            "Best Confidence Threshold: 0.4\n",
            "Best NMS Threshold: 0.5\n",
            "Best Average IoU: 0.8957\n",
            "\n",
            "=== Final Evaluation on Entire Validation Set ===\n"
          ]
        },
        {
          "output_type": "stream",
          "name": "stderr",
          "text": [
            "Final IoU calculation: 100%|██████████| 5000/5000 [00:42<00:00, 117.73it/s]"
          ]
        },
        {
          "output_type": "stream",
          "name": "stdout",
          "text": [
            "\n",
            "=== Final Metrics Summary ===\n",
            "Average IoU: 0.8960\n",
            "mAP@0.50: 0.9769\n",
            "mAP@0.50-0.95: 0.8010\n",
            "Precision: 0.9715\n",
            "Recall: 0.9297\n"
          ]
        },
        {
          "output_type": "stream",
          "name": "stderr",
          "text": [
            "\n"
          ]
        }
      ]
    },
    {
      "cell_type": "code",
      "source": [
        "# TODO: show a couple of examples (bounding boxes and labels) of how your model performs on the validation set\n",
        "# TODO: show a couple of examples (bounding boxes and labels) of how your model performs on the validation set\n",
        "import random\n",
        "\n",
        "def show_prediction_example(image_idx, conf_thresh=0.25, nms_thresh=0.45):\n",
        "    \"\"\"\n",
        "    Display a validation image with ground truth and predicted bounding boxes\n",
        "    \"\"\"\n",
        "    # Load image and ground truth\n",
        "    img_path = os.path.join(val_images_dir, f'{image_idx:05d}.png')\n",
        "    img = Image.open(img_path).convert('RGB')\n",
        "\n",
        "    gt_bboxes = val_bboxes[image_idx]\n",
        "    gt_labels = val_labels[image_idx]\n",
        "\n",
        "    # Get predictions\n",
        "    img_tensor = torchvision.transforms.functional.to_tensor(img).unsqueeze(0)\n",
        "    predict_results = model_eval_full(img_tensor, imgsz=64, conf=conf_thresh, iou=nms_thresh, verbose=False)\n",
        "\n",
        "    # Create figure with subplots\n",
        "    fig, axes = plt.subplots(1, 2, figsize=(16, 8))\n",
        "\n",
        "    # Ground truth\n",
        "    ax1 = axes[0]\n",
        "    img_array = np.array(img)\n",
        "    ax1.imshow(img_array)\n",
        "    ax1.set_title('Ground Truth', fontsize=14, fontweight='bold')\n",
        "    ax1.axis('off')\n",
        "\n",
        "    for i, bbox in enumerate(gt_bboxes):\n",
        "        if torch.all(bbox == 0):\n",
        "            continue\n",
        "        x_min, y_min, x_max, y_max = bbox.tolist()\n",
        "        width = x_max - x_min\n",
        "        height = y_max - y_min\n",
        "        if width > 0 and height > 0:\n",
        "            rect = plt.Rectangle((x_min, y_min), width, height,\n",
        "                               fill=False, color='green', linewidth=2)\n",
        "            ax1.add_patch(rect)\n",
        "            if i < len(gt_labels):\n",
        "                ax1.text(x_min, y_min-5, f'GT: {gt_labels[i].item()}',\n",
        "                        bbox={'facecolor': 'green', 'alpha': 0.8, 'pad': 2},\n",
        "                        fontsize=10, color='white')\n",
        "\n",
        "    # Predictions\n",
        "    ax2 = axes[1]\n",
        "    ax2.imshow(img_array)\n",
        "    ax2.set_title('Predictions', fontsize=14, fontweight='bold')\n",
        "    ax2.axis('off')\n",
        "\n",
        "    if predict_results and predict_results[0].boxes is not None:\n",
        "        pred_boxes = predict_results[0].boxes.xyxy.cpu().numpy()\n",
        "        pred_labels = predict_results[0].boxes.cls.cpu().numpy()\n",
        "        pred_conf = predict_results[0].boxes.conf.cpu().numpy()\n",
        "\n",
        "        for i, (bbox, label, conf) in enumerate(zip(pred_boxes, pred_labels, pred_conf)):\n",
        "            x_min, y_min, x_max, y_max = bbox\n",
        "            width = x_max - x_min\n",
        "            height = y_max - y_min\n",
        "            rect = plt.Rectangle((x_min, y_min), width, height,\n",
        "                               fill=False, color='red', linewidth=2)\n",
        "            ax2.add_patch(rect)\n",
        "            ax2.text(x_min, y_min-5, f'Pred: {int(label)} ({conf:.2f})',\n",
        "                    bbox={'facecolor': 'red', 'alpha': 0.8, 'pad': 2},\n",
        "                    fontsize=10, color='white')\n",
        "    else:\n",
        "        ax2.text(32, 32, 'No detections', ha='center', va='center',\n",
        "                bbox={'facecolor': 'red', 'alpha': 0.8}, fontsize=12)\n",
        "\n",
        "    plt.tight_layout()\n",
        "    plt.show()\n",
        "\n",
        "# Show several random examples\n",
        "print(\"Showing detection examples on validation set...\\n\")\n",
        "random_indices = random.sample(range(len(val_images)), min(5, len(val_images)))\n",
        "\n",
        "for idx in random_indices:\n",
        "    print(f\"Example {idx}:\")\n",
        "    show_prediction_example(idx, conf_thresh=best_conf, nms_thresh=best_nms)\n",
        "    print()\n",
        "\n"
      ],
      "metadata": {
        "id": "iA5wJVK5lotW",
        "colab": {
          "base_uri": "https://localhost:8080/",
          "height": 1000
        },
        "outputId": "5be57231-7d93-42d2-d63d-20c6a831fbed"
      },
      "execution_count": 20,
      "outputs": [
        {
          "output_type": "stream",
          "name": "stdout",
          "text": [
            "Showing detection examples on validation set...\n",
            "\n",
            "Example 2308:\n"
          ]
        },
        {
          "output_type": "display_data",
          "data": {
            "text/plain": [
              "<Figure size 1600x800 with 2 Axes>"
            ],
            "image/png": "[encoded data removed]"
          },
          "metadata": {}
        },
        {
          "output_type": "stream",
          "name": "stdout",
          "text": [
            "\n",
            "Example 1144:\n"
          ]
        },
        {
          "output_type": "display_data",
          "data": {
            "text/plain": [
              "<Figure size 1600x800 with 2 Axes>"
            ],
            "image/png": "[encoded data removed]"
          },
          "metadata": {}
        },
        {
          "output_type": "stream",
          "name": "stdout",
          "text": [
            "\n",
            "Example 776:\n"
          ]
        },
        {
          "output_type": "display_data",
          "data": {
            "text/plain": [
              "<Figure size 1600x800 with 2 Axes>"
            ],
            "image/png": "[encoded data removed]"
          },
          "metadata": {}
        },
        {
          "output_type": "stream",
          "name": "stdout",
          "text": [
            "\n",
            "Example 2052:\n"
          ]
        },
        {
          "output_type": "display_data",
          "data": {
            "text/plain": [
              "<Figure size 1600x800 with 2 Axes>"
            ],
            "image/png": "[encoded data removed]"
          },
          "metadata": {}
        },
        {
          "output_type": "stream",
          "name": "stdout",
          "text": [
            "\n",
            "Example 4362:\n"
          ]
        },
        {
          "output_type": "display_data",
          "data": {
            "text/plain": [
              "<Figure size 1600x800 with 2 Axes>"
            ],
            "image/png": "[encoded data removed]"
          },
          "metadata": {}
        },
        {
          "output_type": "stream",
          "name": "stdout",
          "text": [
            "\n"
          ]
        }
      ]
    },
    {
      "cell_type": "markdown",
      "source": [
        "The model weights you upload will be run by us (the TAs) on the held-out test set (which will be released _after_ the deadline)."
      ],
      "metadata": {
        "id": "SuEiZzralx7_"
      }
    }
  ]
}